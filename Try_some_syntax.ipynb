{
 "cells": [
  {
   "cell_type": "code",
   "execution_count": 1,
   "metadata": {},
   "outputs": [],
   "source": [
    "from datetime import datetime, timedelta\n",
    "import pandas as pd\n",
    "import numpy as np\n",
    "import json"
   ]
  },
  {
   "cell_type": "code",
   "execution_count": 7,
   "metadata": {},
   "outputs": [
    {
     "data": {
      "text/plain": [
       "datetime.datetime(1, 1, 1, 0, 0)"
      ]
     },
     "execution_count": 7,
     "metadata": {},
     "output_type": "execute_result"
    }
   ],
   "source": [
    "datetime(1,1,1)"
   ]
  },
  {
   "cell_type": "code",
   "execution_count": 2,
   "metadata": {},
   "outputs": [
    {
     "name": "stderr",
     "output_type": "stream",
     "text": [
      "/home/danil/.local/lib/python3.6/site-packages/ipykernel_launcher.py:1: FutureWarning: The pandas.datetime class is deprecated and will be removed from pandas in a future version. Import from datetime instead.\n",
      "  \"\"\"Entry point for launching an IPython kernel.\n"
     ]
    },
    {
     "data": {
      "text/plain": [
       "datetime.datetime(2020, 9, 18, 22, 41, 14, 479909)"
      ]
     },
     "execution_count": 2,
     "metadata": {},
     "output_type": "execute_result"
    }
   ],
   "source": [
    "pd.datetime.now()"
   ]
  },
  {
   "cell_type": "code",
   "execution_count": 17,
   "metadata": {},
   "outputs": [
    {
     "data": {
      "text/plain": [
       "datetime.datetime(2020, 9, 18, 17, 2, 12, 835746)"
      ]
     },
     "execution_count": 17,
     "metadata": {},
     "output_type": "execute_result"
    }
   ],
   "source": [
    "datetime.now()"
   ]
  },
  {
   "cell_type": "code",
   "execution_count": 21,
   "metadata": {},
   "outputs": [
    {
     "data": {
      "text/plain": [
       "datetime.datetime(2020, 9, 17, 17, 2, 42, 972858)"
      ]
     },
     "execution_count": 21,
     "metadata": {},
     "output_type": "execute_result"
    }
   ],
   "source": [
    "datetime.now() - timedelta(days=1)"
   ]
  },
  {
   "cell_type": "code",
   "execution_count": 7,
   "metadata": {},
   "outputs": [],
   "source": [
    "import dash_daq as daq"
   ]
  },
  {
   "cell_type": "code",
   "execution_count": 2,
   "metadata": {},
   "outputs": [],
   "source": [
    "df1 = pd.read_excel('./ActualDataFeb2020.xlsx')"
   ]
  },
  {
   "cell_type": "code",
   "execution_count": 19,
   "metadata": {},
   "outputs": [
    {
     "data": {
      "text/plain": [
       "0      309.94\n",
       "1      315.52\n",
       "2      308.43\n",
       "3      320.57\n",
       "4      320.70\n",
       "        ...  \n",
       "843    328.01\n",
       "844    328.26\n",
       "845    334.60\n",
       "846    329.48\n",
       "847    330.67\n",
       "Name: Gpp, Length: 848, dtype: float64"
      ]
     },
     "execution_count": 19,
     "metadata": {},
     "output_type": "execute_result"
    }
   ],
   "source": [
    "df1.iloc[:,1]"
   ]
  },
  {
   "cell_type": "code",
   "execution_count": 17,
   "metadata": {},
   "outputs": [
    {
     "data": {
      "text/plain": [
       "10"
      ]
     },
     "execution_count": 17,
     "metadata": {},
     "output_type": "execute_result"
    }
   ],
   "source": [
    "min((10,df1.shape[1]))"
   ]
  },
  {
   "cell_type": "code",
   "execution_count": 21,
   "metadata": {},
   "outputs": [
    {
     "name": "stdout",
     "output_type": "stream",
     "text": [
      "309.94\n",
      "315.52\n",
      "308.43\n",
      "320.57\n",
      "320.7\n",
      "319.28\n",
      "322.76\n",
      "316.44\n",
      "322.76\n",
      "320.68\n",
      "318.76\n",
      "303.63\n",
      "304.31\n",
      "305.62\n",
      "307.21\n",
      "303.37\n",
      "302.73\n",
      "315.66\n",
      "316.95\n",
      "316.79\n",
      "317.31\n",
      "317.43\n",
      "315.35\n",
      "316.8\n",
      "316.16\n",
      "316.16\n",
      "315.91\n",
      "317.07\n",
      "315.51\n",
      "316.42\n",
      "317.98\n",
      "318.51\n",
      "318.51\n",
      "316.82\n",
      "318.5\n",
      "315.79\n",
      "315.4\n",
      "314.89\n",
      "317.48\n",
      "315.3\n",
      "314.91\n",
      "321.92\n",
      "320.12\n",
      "320.64\n",
      "318.2\n",
      "317.81\n",
      "319.21\n",
      "319.86\n",
      "317.16\n",
      "316.25\n",
      "316.76\n",
      "319.08\n",
      "320.25\n",
      "319.99\n",
      "320.12\n",
      "319.73\n",
      "317.64\n",
      "319.05\n",
      "317.36\n",
      "317.88\n",
      "320.84\n",
      "318.01\n",
      "318.27\n",
      "317.88\n",
      "315.69\n",
      "318.02\n",
      "319.56\n",
      "315.3\n",
      "316.59\n",
      "316.96\n",
      "314.12\n",
      "312.45\n",
      "319.16\n",
      "315.91\n",
      "317.06\n",
      "317.87\n",
      "317.25\n",
      "318.41\n",
      "320.73\n",
      "315.54\n",
      "321.08\n",
      "321.33\n",
      "316.18\n",
      "318.5\n",
      "316.71\n",
      "319.38\n",
      "322.3\n",
      "317.74\n",
      "317.22\n",
      "320.44\n",
      "319.8\n",
      "321.22\n",
      "318.64\n",
      "319.63\n",
      "322.15\n",
      "320.06\n",
      "322.75\n",
      "322.76\n",
      "317.88\n",
      "320.34\n",
      "320.35\n",
      "320.35\n",
      "321.1\n",
      "324.06\n",
      "321.33\n",
      "324.28\n",
      "323.89\n",
      "322.33\n",
      "320.14\n",
      "322.74\n",
      "322.75\n",
      "322.86\n",
      "324.68\n",
      "323.68\n",
      "323.71\n",
      "320.76\n",
      "322.05\n",
      "319.98\n",
      "322.85\n",
      "322.6\n",
      "325.18\n",
      "323.49\n",
      "323.48\n",
      "325.68\n",
      "324.53\n",
      "322.75\n",
      "319.64\n",
      "322.87\n",
      "326.25\n",
      "325.86\n",
      "323.96\n",
      "322.74\n",
      "318.5\n",
      "319.92\n",
      "321.87\n",
      "315.96\n",
      "319.0\n",
      "320.57\n",
      "319.3\n",
      "314.78\n",
      "318.17\n",
      "321.3\n",
      "316.28\n",
      "315.48\n",
      "314.02\n",
      "321.75\n",
      "317.59\n",
      "324.43\n",
      "320.82\n",
      "319.15\n",
      "319.54\n",
      "320.2\n",
      "317.63\n",
      "315.44\n",
      "319.95\n",
      "320.48\n",
      "317.78\n",
      "318.83\n",
      "318.83\n",
      "322.18\n",
      "320.1\n",
      "318.3\n",
      "317.38\n",
      "317.5\n",
      "316.63\n",
      "316.41\n",
      "316.15\n",
      "318.86\n",
      "318.09\n",
      "311.48\n",
      "318.84\n",
      "322.06\n",
      "318.58\n",
      "320.02\n",
      "318.76\n",
      "318.92\n",
      "315.59\n",
      "316.01\n",
      "318.25\n",
      "317.4\n",
      "316.56\n",
      "321.44\n",
      "318.93\n",
      "320.73\n",
      "317.49\n",
      "321.98\n",
      "320.3\n",
      "321.08\n",
      "319.14\n",
      "314.71\n",
      "317.0\n",
      "315.93\n",
      "314.73\n",
      "311.8\n",
      "320.08\n",
      "318.52\n",
      "314.97\n",
      "317.72\n",
      "317.64\n",
      "319.57\n",
      "320.47\n",
      "316.29\n",
      "315.59\n",
      "317.77\n",
      "318.92\n",
      "319.55\n",
      "318.37\n",
      "316.68\n",
      "315.44\n",
      "315.7\n",
      "315.61\n",
      "316.66\n",
      "314.76\n",
      "308.06\n",
      "311.36\n",
      "312.31\n",
      "316.49\n",
      "317.82\n",
      "319.62\n",
      "320.56\n",
      "319.61\n",
      "319.09\n",
      "324.38\n",
      "324.21\n",
      "327.75\n",
      "326.35\n",
      "324.8\n",
      "321.87\n",
      "320.66\n",
      "323.3\n",
      "323.05\n",
      "317.11\n",
      "325.08\n",
      "328.48\n",
      "323.29\n",
      "329.94\n",
      "329.23\n",
      "327.14\n",
      "322.99\n",
      "324.28\n",
      "321.54\n",
      "324.16\n",
      "327.52\n",
      "322.54\n",
      "324.21\n",
      "325.0\n",
      "320.74\n",
      "325.0\n",
      "319.7\n",
      "325.0\n",
      "322.81\n",
      "325.27\n",
      "324.1\n",
      "325.13\n",
      "325.52\n",
      "326.03\n",
      "326.79\n",
      "325.74\n",
      "322.77\n",
      "320.61\n",
      "319.97\n",
      "320.18\n",
      "320.17\n",
      "321.46\n",
      "313.72\n",
      "319.55\n",
      "318.64\n",
      "319.9\n",
      "320.55\n",
      "328.16\n",
      "317.8\n",
      "321.02\n",
      "322.57\n",
      "324.89\n",
      "326.69\n",
      "322.69\n",
      "317.11\n",
      "322.97\n",
      "321.15\n",
      "326.39\n",
      "322.99\n",
      "326.74\n",
      "324.16\n",
      "325.06\n",
      "325.57\n",
      "323.48\n",
      "321.35\n",
      "323.97\n",
      "318.57\n",
      "318.84\n",
      "320.79\n",
      "323.09\n",
      "325.35\n",
      "322.76\n",
      "327.18\n",
      "324.62\n",
      "322.95\n",
      "322.94\n",
      "319.33\n",
      "321.11\n",
      "317.09\n",
      "325.48\n",
      "316.18\n",
      "321.6\n",
      "321.63\n",
      "324.35\n",
      "324.61\n",
      "325.5\n",
      "325.24\n",
      "319.06\n",
      "325.77\n",
      "324.47\n",
      "326.14\n",
      "324.72\n",
      "324.86\n",
      "321.76\n",
      "320.66\n",
      "323.04\n",
      "321.52\n",
      "325.92\n",
      "327.85\n",
      "320.73\n",
      "318.54\n",
      "325.66\n",
      "324.05\n",
      "326.22\n",
      "328.41\n",
      "326.21\n",
      "322.73\n",
      "326.23\n",
      "324.81\n",
      "328.29\n",
      "328.41\n",
      "322.99\n",
      "327.64\n",
      "324.67\n",
      "318.99\n",
      "326.74\n",
      "326.6\n",
      "328.0\n",
      "325.41\n",
      "325.15\n",
      "326.17\n",
      "325.52\n",
      "327.72\n",
      "326.03\n",
      "322.92\n",
      "324.72\n",
      "325.74\n",
      "325.97\n",
      "324.43\n",
      "324.03\n",
      "322.84\n",
      "325.68\n",
      "324.52\n",
      "323.22\n",
      "322.71\n",
      "325.93\n",
      "325.96\n",
      "324.17\n",
      "323.92\n",
      "323.41\n",
      "324.43\n",
      "319.38\n",
      "325.45\n",
      "320.4\n",
      "322.71\n",
      "322.83\n",
      "322.74\n",
      "317.9\n",
      "320.39\n",
      "321.18\n",
      "327.35\n",
      "331.46\n",
      "328.33\n",
      "325.51\n",
      "326.2\n",
      "327.37\n",
      "323.18\n",
      "325.53\n",
      "325.8\n",
      "328.78\n",
      "328.78\n",
      "327.61\n",
      "329.27\n",
      "327.46\n",
      "327.85\n",
      "327.92\n",
      "330.53\n",
      "327.94\n",
      "326.55\n",
      "326.68\n",
      "328.88\n",
      "328.24\n",
      "326.04\n",
      "327.07\n",
      "329.53\n",
      "331.74\n",
      "328.89\n",
      "332.77\n",
      "329.28\n",
      "333.64\n",
      "331.41\n",
      "333.08\n",
      "331.66\n",
      "335.53\n",
      "332.68\n",
      "333.92\n",
      "333.32\n",
      "334.86\n",
      "332.03\n",
      "333.63\n",
      "335.06\n",
      "333.12\n",
      "333.5\n",
      "333.63\n",
      "332.21\n",
      "335.96\n",
      "333.99\n",
      "328.31\n",
      "329.13\n",
      "327.46\n",
      "326.96\n",
      "336.01\n",
      "336.13\n",
      "320.23\n",
      "323.2\n",
      "319.06\n",
      "315.7\n",
      "313.64\n",
      "318.3\n",
      "324.89\n",
      "318.36\n",
      "321.32\n",
      "319.91\n",
      "316.31\n",
      "320.19\n",
      "322.4\n",
      "322.64\n",
      "321.07\n",
      "323.01\n",
      "321.83\n",
      "321.59\n",
      "321.19\n",
      "321.07\n",
      "320.68\n",
      "319.65\n",
      "321.98\n",
      "320.82\n",
      "319.78\n",
      "323.78\n",
      "322.75\n",
      "325.59\n",
      "329.85\n",
      "328.94\n",
      "325.31\n",
      "327.24\n",
      "329.68\n",
      "328.38\n",
      "325.53\n",
      "323.33\n",
      "325.78\n",
      "325.79\n",
      "321.78\n",
      "324.49\n",
      "324.23\n",
      "326.55\n",
      "327.46\n",
      "321.77\n",
      "323.57\n",
      "324.73\n",
      "325.64\n",
      "326.29\n",
      "327.07\n",
      "325.14\n",
      "326.31\n",
      "327.5\n",
      "327.12\n",
      "325.45\n",
      "327.01\n",
      "328.16\n",
      "330.35\n",
      "330.61\n",
      "331.66\n",
      "338.0\n",
      "335.88\n",
      "335.38\n",
      "336.91\n",
      "334.51\n",
      "335.7\n",
      "333.64\n",
      "335.83\n",
      "336.48\n",
      "336.11\n",
      "335.98\n",
      "337.28\n",
      "339.09\n",
      "337.16\n",
      "338.83\n",
      "338.71\n",
      "339.09\n",
      "340.24\n",
      "338.57\n",
      "340.5\n",
      "335.89\n",
      "335.41\n",
      "335.17\n",
      "334.91\n",
      "332.81\n",
      "334.08\n",
      "335.74\n",
      "337.04\n",
      "334.32\n",
      "334.59\n",
      "335.88\n",
      "337.05\n",
      "338.6\n",
      "339.22\n",
      "333.28\n",
      "335.98\n",
      "335.98\n",
      "338.69\n",
      "335.85\n",
      "340.11\n",
      "338.05\n",
      "338.68\n",
      "335.06\n",
      "339.57\n",
      "337.12\n",
      "337.51\n",
      "335.96\n",
      "337.12\n",
      "336.47\n",
      "337.63\n",
      "342.38\n",
      "337.5\n",
      "336.98\n",
      "338.15\n",
      "339.16\n",
      "336.45\n",
      "333.64\n",
      "335.84\n",
      "335.84\n",
      "335.85\n",
      "337.66\n",
      "339.23\n",
      "338.08\n",
      "337.82\n",
      "337.28\n",
      "335.86\n",
      "337.8\n",
      "339.22\n",
      "337.03\n",
      "334.57\n",
      "338.2\n",
      "336.92\n",
      "338.49\n",
      "336.17\n",
      "335.25\n",
      "334.74\n",
      "335.65\n",
      "335.27\n",
      "338.24\n",
      "337.07\n",
      "337.71\n",
      "337.46\n",
      "335.91\n",
      "335.9\n",
      "335.39\n",
      "335.77\n",
      "334.61\n",
      "338.5\n",
      "335.78\n",
      "339.12\n",
      "333.7\n",
      "335.81\n",
      "335.2\n",
      "334.84\n",
      "335.36\n",
      "335.97\n",
      "334.55\n",
      "327.68\n",
      "331.92\n",
      "332.69\n",
      "333.58\n",
      "333.93\n",
      "335.6\n",
      "334.57\n",
      "335.61\n",
      "337.28\n",
      "332.37\n",
      "333.92\n",
      "333.15\n",
      "334.83\n",
      "332.76\n",
      "331.73\n",
      "335.86\n",
      "340.0\n",
      "336.77\n",
      "337.28\n",
      "339.59\n",
      "337.01\n",
      "335.97\n",
      "339.07\n",
      "335.84\n",
      "335.85\n",
      "337.91\n",
      "338.56\n",
      "337.4\n",
      "335.72\n",
      "339.71\n",
      "338.42\n",
      "342.26\n",
      "335.58\n",
      "336.1\n",
      "338.3\n",
      "335.46\n",
      "339.72\n",
      "341.11\n",
      "340.24\n",
      "337.4\n",
      "340.37\n",
      "342.01\n",
      "339.98\n",
      "341.89\n",
      "341.02\n",
      "337.91\n",
      "337.9\n",
      "340.49\n",
      "340.88\n",
      "337.67\n",
      "335.48\n",
      "333.8\n",
      "335.87\n",
      "332.39\n",
      "329.55\n",
      "326.07\n",
      "330.72\n",
      "333.17\n",
      "326.19\n",
      "328.66\n",
      "329.7\n",
      "326.34\n",
      "328.53\n",
      "328.78\n",
      "332.01\n",
      "327.87\n",
      "331.49\n",
      "329.3\n",
      "328.66\n",
      "332.54\n",
      "330.34\n",
      "334.23\n",
      "331.64\n",
      "332.02\n",
      "333.57\n",
      "332.42\n",
      "334.38\n",
      "331.3\n",
      "329.11\n",
      "333.24\n",
      "332.94\n",
      "333.57\n",
      "328.91\n",
      "333.54\n",
      "332.5\n",
      "330.44\n",
      "331.21\n",
      "329.53\n",
      "330.82\n",
      "329.9\n",
      "327.84\n",
      "327.85\n",
      "330.69\n",
      "330.16\n",
      "330.28\n",
      "332.34\n",
      "331.42\n",
      "332.05\n",
      "332.67\n",
      "331.88\n",
      "333.17\n",
      "336.93\n",
      "337.58\n",
      "335.78\n",
      "336.29\n",
      "335.35\n",
      "334.56\n",
      "337.63\n",
      "337.28\n",
      "332.92\n",
      "332.03\n",
      "331.24\n",
      "330.96\n",
      "333.91\n",
      "330.16\n",
      "331.83\n",
      "330.28\n",
      "329.77\n",
      "334.42\n",
      "336.22\n",
      "334.42\n",
      "338.69\n",
      "336.1\n",
      "333.91\n",
      "335.98\n",
      "335.86\n",
      "332.68\n",
      "334.42\n",
      "333.53\n",
      "332.87\n",
      "328.47\n",
      "328.09\n",
      "330.42\n",
      "327.85\n",
      "330.06\n",
      "328.1\n",
      "328.35\n",
      "331.7\n",
      "330.67\n",
      "329.65\n",
      "328.1\n",
      "330.3\n",
      "325.26\n",
      "329.26\n",
      "331.86\n",
      "330.82\n",
      "327.72\n",
      "327.85\n",
      "328.76\n",
      "325.78\n",
      "326.43\n",
      "327.34\n",
      "326.31\n",
      "326.32\n",
      "327.49\n",
      "325.3\n",
      "328.14\n",
      "328.14\n",
      "329.18\n",
      "325.95\n",
      "325.07\n",
      "327.4\n",
      "326.89\n",
      "326.89\n",
      "327.02\n",
      "327.92\n",
      "327.93\n",
      "328.32\n",
      "332.19\n",
      "329.73\n",
      "331.67\n",
      "327.67\n",
      "329.61\n",
      "329.34\n",
      "329.85\n",
      "328.57\n",
      "331.67\n",
      "331.02\n",
      "331.03\n",
      "332.21\n",
      "327.69\n",
      "328.75\n",
      "327.89\n",
      "329.32\n",
      "326.26\n",
      "326.48\n",
      "326.79\n",
      "326.79\n",
      "326.79\n",
      "326.79\n",
      "326.79\n",
      "326.79\n",
      "326.67\n",
      "328.35\n",
      "328.36\n",
      "328.51\n",
      "332.45\n",
      "333.28\n",
      "332.06\n",
      "332.18\n",
      "333.67\n",
      "336.11\n",
      "323.09\n",
      "325.95\n",
      "331.38\n",
      "328.14\n",
      "325.17\n",
      "329.43\n",
      "328.48\n",
      "330.14\n",
      "331.42\n",
      "326.89\n",
      "330.77\n",
      "330.35\n",
      "332.67\n",
      "329.32\n",
      "328.04\n",
      "325.72\n",
      "327.8\n",
      "325.47\n",
      "324.06\n",
      "325.22\n",
      "326.37\n",
      "325.7\n",
      "324.77\n",
      "325.67\n",
      "325.15\n",
      "326.7\n",
      "324.89\n",
      "322.7\n",
      "323.21\n",
      "323.08\n",
      "327.48\n",
      "326.4\n",
      "323.91\n",
      "322.1\n",
      "325.35\n",
      "324.49\n",
      "325.4\n",
      "326.84\n",
      "326.52\n",
      "328.78\n",
      "331.38\n",
      "331.29\n",
      "327.29\n",
      "326.47\n",
      "327.91\n",
      "327.41\n",
      "326.88\n",
      "328.05\n",
      "325.72\n",
      "328.18\n",
      "331.54\n",
      "327.27\n",
      "324.7\n",
      "325.37\n",
      "326.27\n",
      "325.82\n",
      "328.41\n",
      "327.63\n",
      "329.69\n",
      "326.59\n",
      "328.01\n",
      "328.26\n",
      "334.6\n",
      "329.48\n",
      "330.67\n"
     ]
    }
   ],
   "source": [
    "for v, i in enumerate(df1.iloc[:,1]):\n",
    "    print(i)"
   ]
  },
  {
   "cell_type": "code",
   "execution_count": 1,
   "metadata": {},
   "outputs": [
    {
     "data": {
      "text/plain": [
       "[1, 2]"
      ]
     },
     "execution_count": 1,
     "metadata": {},
     "output_type": "execute_result"
    }
   ],
   "source": [
    "[1]+[2]"
   ]
  },
  {
   "cell_type": "code",
   "execution_count": 23,
   "metadata": {},
   "outputs": [],
   "source": [
    "df = pd.read_csv('AutoDataset.csv')"
   ]
  },
  {
   "cell_type": "code",
   "execution_count": 24,
   "metadata": {},
   "outputs": [],
   "source": [
    "df.columns=[x[1:] for x in df.columns]"
   ]
  },
  {
   "cell_type": "code",
   "execution_count": 25,
   "metadata": {},
   "outputs": [
    {
     "data": {
      "text/html": [
       "<div>\n",
       "<style scoped>\n",
       "    .dataframe tbody tr th:only-of-type {\n",
       "        vertical-align: middle;\n",
       "    }\n",
       "\n",
       "    .dataframe tbody tr th {\n",
       "        vertical-align: top;\n",
       "    }\n",
       "\n",
       "    .dataframe thead th {\n",
       "        text-align: right;\n",
       "    }\n",
       "</style>\n",
       "<table border=\"1\" class=\"dataframe\">\n",
       "  <thead>\n",
       "    <tr style=\"text-align: right;\">\n",
       "      <th></th>\n",
       "      <th>symboling</th>\n",
       "      <th>normalized-losses</th>\n",
       "      <th>make</th>\n",
       "      <th>fuel-type</th>\n",
       "      <th>aspiration</th>\n",
       "      <th>num-of-doors</th>\n",
       "      <th>body-style</th>\n",
       "      <th>drive-wheels</th>\n",
       "      <th>engine-location</th>\n",
       "      <th>wheel-base</th>\n",
       "      <th>...</th>\n",
       "      <th>engine-size</th>\n",
       "      <th>fuel-system</th>\n",
       "      <th>bore</th>\n",
       "      <th>stroke</th>\n",
       "      <th>compression-ratio</th>\n",
       "      <th>horsepower</th>\n",
       "      <th>peak-rpm</th>\n",
       "      <th>city-mpg</th>\n",
       "      <th>highway-mpg</th>\n",
       "      <th>price</th>\n",
       "    </tr>\n",
       "  </thead>\n",
       "  <tbody>\n",
       "    <tr>\n",
       "      <th>0</th>\n",
       "      <td>3</td>\n",
       "      <td>NaN</td>\n",
       "      <td>alfa-romero</td>\n",
       "      <td>gas</td>\n",
       "      <td>std</td>\n",
       "      <td>two</td>\n",
       "      <td>convertible</td>\n",
       "      <td>rwd</td>\n",
       "      <td>front</td>\n",
       "      <td>88.6</td>\n",
       "      <td>...</td>\n",
       "      <td>130</td>\n",
       "      <td>mpfi</td>\n",
       "      <td>3.47</td>\n",
       "      <td>2.68</td>\n",
       "      <td>9.0</td>\n",
       "      <td>111.0</td>\n",
       "      <td>5000.0</td>\n",
       "      <td>21</td>\n",
       "      <td>27</td>\n",
       "      <td>13495.0</td>\n",
       "    </tr>\n",
       "    <tr>\n",
       "      <th>1</th>\n",
       "      <td>3</td>\n",
       "      <td>NaN</td>\n",
       "      <td>alfa-romero</td>\n",
       "      <td>gas</td>\n",
       "      <td>std</td>\n",
       "      <td>two</td>\n",
       "      <td>convertible</td>\n",
       "      <td>rwd</td>\n",
       "      <td>front</td>\n",
       "      <td>88.6</td>\n",
       "      <td>...</td>\n",
       "      <td>130</td>\n",
       "      <td>mpfi</td>\n",
       "      <td>3.47</td>\n",
       "      <td>2.68</td>\n",
       "      <td>9.0</td>\n",
       "      <td>111.0</td>\n",
       "      <td>5000.0</td>\n",
       "      <td>21</td>\n",
       "      <td>27</td>\n",
       "      <td>16500.0</td>\n",
       "    </tr>\n",
       "    <tr>\n",
       "      <th>2</th>\n",
       "      <td>1</td>\n",
       "      <td>NaN</td>\n",
       "      <td>alfa-romero</td>\n",
       "      <td>gas</td>\n",
       "      <td>std</td>\n",
       "      <td>two</td>\n",
       "      <td>hatchback</td>\n",
       "      <td>rwd</td>\n",
       "      <td>front</td>\n",
       "      <td>94.5</td>\n",
       "      <td>...</td>\n",
       "      <td>152</td>\n",
       "      <td>mpfi</td>\n",
       "      <td>2.68</td>\n",
       "      <td>3.47</td>\n",
       "      <td>9.0</td>\n",
       "      <td>154.0</td>\n",
       "      <td>5000.0</td>\n",
       "      <td>19</td>\n",
       "      <td>26</td>\n",
       "      <td>16500.0</td>\n",
       "    </tr>\n",
       "    <tr>\n",
       "      <th>3</th>\n",
       "      <td>2</td>\n",
       "      <td>164.0</td>\n",
       "      <td>audi</td>\n",
       "      <td>gas</td>\n",
       "      <td>std</td>\n",
       "      <td>four</td>\n",
       "      <td>sedan</td>\n",
       "      <td>fwd</td>\n",
       "      <td>front</td>\n",
       "      <td>99.8</td>\n",
       "      <td>...</td>\n",
       "      <td>109</td>\n",
       "      <td>mpfi</td>\n",
       "      <td>3.19</td>\n",
       "      <td>3.40</td>\n",
       "      <td>10.0</td>\n",
       "      <td>102.0</td>\n",
       "      <td>5500.0</td>\n",
       "      <td>24</td>\n",
       "      <td>30</td>\n",
       "      <td>13950.0</td>\n",
       "    </tr>\n",
       "    <tr>\n",
       "      <th>4</th>\n",
       "      <td>2</td>\n",
       "      <td>164.0</td>\n",
       "      <td>audi</td>\n",
       "      <td>gas</td>\n",
       "      <td>std</td>\n",
       "      <td>four</td>\n",
       "      <td>sedan</td>\n",
       "      <td>4wd</td>\n",
       "      <td>front</td>\n",
       "      <td>99.4</td>\n",
       "      <td>...</td>\n",
       "      <td>136</td>\n",
       "      <td>mpfi</td>\n",
       "      <td>3.19</td>\n",
       "      <td>3.40</td>\n",
       "      <td>8.0</td>\n",
       "      <td>115.0</td>\n",
       "      <td>5500.0</td>\n",
       "      <td>18</td>\n",
       "      <td>22</td>\n",
       "      <td>17450.0</td>\n",
       "    </tr>\n",
       "  </tbody>\n",
       "</table>\n",
       "<p>5 rows × 26 columns</p>\n",
       "</div>"
      ],
      "text/plain": [
       "   symboling  normalized-losses         make fuel-type aspiration  \\\n",
       "0          3                NaN  alfa-romero       gas        std   \n",
       "1          3                NaN  alfa-romero       gas        std   \n",
       "2          1                NaN  alfa-romero       gas        std   \n",
       "3          2              164.0         audi       gas        std   \n",
       "4          2              164.0         audi       gas        std   \n",
       "\n",
       "  num-of-doors   body-style drive-wheels engine-location  wheel-base  ...  \\\n",
       "0          two  convertible          rwd           front        88.6  ...   \n",
       "1          two  convertible          rwd           front        88.6  ...   \n",
       "2          two    hatchback          rwd           front        94.5  ...   \n",
       "3         four        sedan          fwd           front        99.8  ...   \n",
       "4         four        sedan          4wd           front        99.4  ...   \n",
       "\n",
       "   engine-size  fuel-system  bore  stroke compression-ratio horsepower  \\\n",
       "0          130         mpfi  3.47    2.68               9.0      111.0   \n",
       "1          130         mpfi  3.47    2.68               9.0      111.0   \n",
       "2          152         mpfi  2.68    3.47               9.0      154.0   \n",
       "3          109         mpfi  3.19    3.40              10.0      102.0   \n",
       "4          136         mpfi  3.19    3.40               8.0      115.0   \n",
       "\n",
       "   peak-rpm city-mpg  highway-mpg    price  \n",
       "0    5000.0       21           27  13495.0  \n",
       "1    5000.0       21           27  16500.0  \n",
       "2    5000.0       19           26  16500.0  \n",
       "3    5500.0       24           30  13950.0  \n",
       "4    5500.0       18           22  17450.0  \n",
       "\n",
       "[5 rows x 26 columns]"
      ]
     },
     "execution_count": 25,
     "metadata": {},
     "output_type": "execute_result"
    }
   ],
   "source": [
    "df.head()"
   ]
  },
  {
   "cell_type": "code",
   "execution_count": 26,
   "metadata": {},
   "outputs": [
    {
     "data": {
      "text/plain": [
       "(205, 26)"
      ]
     },
     "execution_count": 26,
     "metadata": {},
     "output_type": "execute_result"
    }
   ],
   "source": [
    "df.shape"
   ]
  },
  {
   "cell_type": "code",
   "execution_count": 30,
   "metadata": {},
   "outputs": [],
   "source": [
    "df = df.dropna()"
   ]
  },
  {
   "cell_type": "code",
   "execution_count": 31,
   "metadata": {},
   "outputs": [
    {
     "data": {
      "text/html": [
       "<div>\n",
       "<style scoped>\n",
       "    .dataframe tbody tr th:only-of-type {\n",
       "        vertical-align: middle;\n",
       "    }\n",
       "\n",
       "    .dataframe tbody tr th {\n",
       "        vertical-align: top;\n",
       "    }\n",
       "\n",
       "    .dataframe thead th {\n",
       "        text-align: right;\n",
       "    }\n",
       "</style>\n",
       "<table border=\"1\" class=\"dataframe\">\n",
       "  <thead>\n",
       "    <tr style=\"text-align: right;\">\n",
       "      <th></th>\n",
       "      <th>symboling</th>\n",
       "      <th>normalized-losses</th>\n",
       "      <th>make</th>\n",
       "      <th>fuel-type</th>\n",
       "      <th>aspiration</th>\n",
       "      <th>num-of-doors</th>\n",
       "      <th>body-style</th>\n",
       "      <th>drive-wheels</th>\n",
       "      <th>engine-location</th>\n",
       "      <th>wheel-base</th>\n",
       "      <th>...</th>\n",
       "      <th>engine-size</th>\n",
       "      <th>fuel-system</th>\n",
       "      <th>bore</th>\n",
       "      <th>stroke</th>\n",
       "      <th>compression-ratio</th>\n",
       "      <th>horsepower</th>\n",
       "      <th>peak-rpm</th>\n",
       "      <th>city-mpg</th>\n",
       "      <th>highway-mpg</th>\n",
       "      <th>price</th>\n",
       "    </tr>\n",
       "  </thead>\n",
       "  <tbody>\n",
       "    <tr>\n",
       "      <th>3</th>\n",
       "      <td>2</td>\n",
       "      <td>164.0</td>\n",
       "      <td>audi</td>\n",
       "      <td>gas</td>\n",
       "      <td>std</td>\n",
       "      <td>four</td>\n",
       "      <td>sedan</td>\n",
       "      <td>fwd</td>\n",
       "      <td>front</td>\n",
       "      <td>99.8</td>\n",
       "      <td>...</td>\n",
       "      <td>109</td>\n",
       "      <td>mpfi</td>\n",
       "      <td>3.19</td>\n",
       "      <td>3.4</td>\n",
       "      <td>10.0</td>\n",
       "      <td>102.0</td>\n",
       "      <td>5500.0</td>\n",
       "      <td>24</td>\n",
       "      <td>30</td>\n",
       "      <td>13950.0</td>\n",
       "    </tr>\n",
       "    <tr>\n",
       "      <th>4</th>\n",
       "      <td>2</td>\n",
       "      <td>164.0</td>\n",
       "      <td>audi</td>\n",
       "      <td>gas</td>\n",
       "      <td>std</td>\n",
       "      <td>four</td>\n",
       "      <td>sedan</td>\n",
       "      <td>4wd</td>\n",
       "      <td>front</td>\n",
       "      <td>99.4</td>\n",
       "      <td>...</td>\n",
       "      <td>136</td>\n",
       "      <td>mpfi</td>\n",
       "      <td>3.19</td>\n",
       "      <td>3.4</td>\n",
       "      <td>8.0</td>\n",
       "      <td>115.0</td>\n",
       "      <td>5500.0</td>\n",
       "      <td>18</td>\n",
       "      <td>22</td>\n",
       "      <td>17450.0</td>\n",
       "    </tr>\n",
       "    <tr>\n",
       "      <th>6</th>\n",
       "      <td>1</td>\n",
       "      <td>158.0</td>\n",
       "      <td>audi</td>\n",
       "      <td>gas</td>\n",
       "      <td>std</td>\n",
       "      <td>four</td>\n",
       "      <td>sedan</td>\n",
       "      <td>fwd</td>\n",
       "      <td>front</td>\n",
       "      <td>105.8</td>\n",
       "      <td>...</td>\n",
       "      <td>136</td>\n",
       "      <td>mpfi</td>\n",
       "      <td>3.19</td>\n",
       "      <td>3.4</td>\n",
       "      <td>8.5</td>\n",
       "      <td>110.0</td>\n",
       "      <td>5500.0</td>\n",
       "      <td>19</td>\n",
       "      <td>25</td>\n",
       "      <td>17710.0</td>\n",
       "    </tr>\n",
       "    <tr>\n",
       "      <th>8</th>\n",
       "      <td>1</td>\n",
       "      <td>158.0</td>\n",
       "      <td>audi</td>\n",
       "      <td>gas</td>\n",
       "      <td>turbo</td>\n",
       "      <td>four</td>\n",
       "      <td>sedan</td>\n",
       "      <td>fwd</td>\n",
       "      <td>front</td>\n",
       "      <td>105.8</td>\n",
       "      <td>...</td>\n",
       "      <td>131</td>\n",
       "      <td>mpfi</td>\n",
       "      <td>3.13</td>\n",
       "      <td>3.4</td>\n",
       "      <td>8.3</td>\n",
       "      <td>140.0</td>\n",
       "      <td>5500.0</td>\n",
       "      <td>17</td>\n",
       "      <td>20</td>\n",
       "      <td>23875.0</td>\n",
       "    </tr>\n",
       "    <tr>\n",
       "      <th>10</th>\n",
       "      <td>2</td>\n",
       "      <td>192.0</td>\n",
       "      <td>bmw</td>\n",
       "      <td>gas</td>\n",
       "      <td>std</td>\n",
       "      <td>two</td>\n",
       "      <td>sedan</td>\n",
       "      <td>rwd</td>\n",
       "      <td>front</td>\n",
       "      <td>101.2</td>\n",
       "      <td>...</td>\n",
       "      <td>108</td>\n",
       "      <td>mpfi</td>\n",
       "      <td>3.50</td>\n",
       "      <td>2.8</td>\n",
       "      <td>8.8</td>\n",
       "      <td>101.0</td>\n",
       "      <td>5800.0</td>\n",
       "      <td>23</td>\n",
       "      <td>29</td>\n",
       "      <td>16430.0</td>\n",
       "    </tr>\n",
       "  </tbody>\n",
       "</table>\n",
       "<p>5 rows × 26 columns</p>\n",
       "</div>"
      ],
      "text/plain": [
       "    symboling  normalized-losses  make fuel-type aspiration num-of-doors  \\\n",
       "3           2              164.0  audi       gas        std         four   \n",
       "4           2              164.0  audi       gas        std         four   \n",
       "6           1              158.0  audi       gas        std         four   \n",
       "8           1              158.0  audi       gas      turbo         four   \n",
       "10          2              192.0   bmw       gas        std          two   \n",
       "\n",
       "   body-style drive-wheels engine-location  wheel-base  ...  engine-size  \\\n",
       "3       sedan          fwd           front        99.8  ...          109   \n",
       "4       sedan          4wd           front        99.4  ...          136   \n",
       "6       sedan          fwd           front       105.8  ...          136   \n",
       "8       sedan          fwd           front       105.8  ...          131   \n",
       "10      sedan          rwd           front       101.2  ...          108   \n",
       "\n",
       "    fuel-system  bore  stroke compression-ratio horsepower  peak-rpm city-mpg  \\\n",
       "3          mpfi  3.19     3.4              10.0      102.0    5500.0       24   \n",
       "4          mpfi  3.19     3.4               8.0      115.0    5500.0       18   \n",
       "6          mpfi  3.19     3.4               8.5      110.0    5500.0       19   \n",
       "8          mpfi  3.13     3.4               8.3      140.0    5500.0       17   \n",
       "10         mpfi  3.50     2.8               8.8      101.0    5800.0       23   \n",
       "\n",
       "    highway-mpg    price  \n",
       "3            30  13950.0  \n",
       "4            22  17450.0  \n",
       "6            25  17710.0  \n",
       "8            20  23875.0  \n",
       "10           29  16430.0  \n",
       "\n",
       "[5 rows x 26 columns]"
      ]
     },
     "execution_count": 31,
     "metadata": {},
     "output_type": "execute_result"
    }
   ],
   "source": [
    "df.head()"
   ]
  },
  {
   "cell_type": "code",
   "execution_count": 32,
   "metadata": {},
   "outputs": [
    {
     "data": {
      "text/plain": [
       "(159, 26)"
      ]
     },
     "execution_count": 32,
     "metadata": {},
     "output_type": "execute_result"
    }
   ],
   "source": [
    "df.shape"
   ]
  },
  {
   "cell_type": "code",
   "execution_count": 39,
   "metadata": {},
   "outputs": [
    {
     "data": {
      "text/plain": [
       "Int64Index([  3,   4,   6,   8,  10,  11,  12,  13,  18,  19,\n",
       "            ...\n",
       "            195, 196, 197, 198, 199, 200, 201, 202, 203, 204],\n",
       "           dtype='int64', length=159)"
      ]
     },
     "execution_count": 39,
     "metadata": {},
     "output_type": "execute_result"
    }
   ],
   "source": [
    "df.index"
   ]
  },
  {
   "cell_type": "code",
   "execution_count": null,
   "metadata": {},
   "outputs": [],
   "source": [
    "['wheel-base','engine-size','horsepower']"
   ]
  },
  {
   "cell_type": "code",
   "execution_count": 8,
   "metadata": {},
   "outputs": [
    {
     "name": "stdout",
     "output_type": "stream",
     "text": [
      "<class 'pandas.core.frame.DataFrame'>\n",
      "Int64Index: 159 entries, 3 to 204\n",
      "Data columns (total 26 columns):\n",
      " #   Column              Non-Null Count  Dtype  \n",
      "---  ------              --------------  -----  \n",
      " 0    symboling          159 non-null    int64  \n",
      " 1    normalized-losses  159 non-null    float64\n",
      " 2    make               159 non-null    object \n",
      " 3    fuel-type          159 non-null    object \n",
      " 4    aspiration         159 non-null    object \n",
      " 5    num-of-doors       159 non-null    object \n",
      " 6    body-style         159 non-null    object \n",
      " 7    drive-wheels       159 non-null    object \n",
      " 8    engine-location    159 non-null    object \n",
      " 9    wheel-base         159 non-null    float64\n",
      " 10   length             159 non-null    float64\n",
      " 11   width              159 non-null    float64\n",
      " 12   height             159 non-null    float64\n",
      " 13   curb-weight        159 non-null    int64  \n",
      " 14   engine-type        159 non-null    object \n",
      " 15   num-of-cylinders   159 non-null    object \n",
      " 16   engine-size        159 non-null    int64  \n",
      " 17   fuel-system        159 non-null    object \n",
      " 18   bore               159 non-null    float64\n",
      " 19   stroke             159 non-null    float64\n",
      " 20   compression-ratio  159 non-null    float64\n",
      " 21   horsepower         159 non-null    float64\n",
      " 22   peak-rpm           159 non-null    float64\n",
      " 23   city-mpg           159 non-null    int64  \n",
      " 24   highway-mpg        159 non-null    int64  \n",
      " 25   price              159 non-null    float64\n",
      "dtypes: float64(11), int64(5), object(10)\n",
      "memory usage: 33.5+ KB\n"
     ]
    }
   ],
   "source": [
    "df.info()"
   ]
  },
  {
   "cell_type": "code",
   "execution_count": 42,
   "metadata": {},
   "outputs": [
    {
     "data": {
      "text/plain": [
       "[{'x': (1, 2, 3),\n",
       "  'y': (3, 4, 5),\n",
       "  'text': 'sd',\n",
       "  'mode': 'Scatter',\n",
       "  'name': 'a'},\n",
       " {'x': (1, 2, 3),\n",
       "  'y': (3, 4, 5),\n",
       "  'text': 'sd',\n",
       "  'mode': 'Scatter',\n",
       "  'name': 'a'}]"
      ]
     },
     "execution_count": 42,
     "metadata": {},
     "output_type": "execute_result"
    }
   ],
   "source": [
    "[dict(\n",
    "                                    x=(1,2,3),\n",
    "                                    y=(3,4,5),\n",
    "                                    text=\"sd\",\n",
    "                                    mode='Scatter',\n",
    "\n",
    "                                    name=\"a\"\n",
    "                                ) for i in range(2)]"
   ]
  },
  {
   "cell_type": "code",
   "execution_count": 8,
   "metadata": {},
   "outputs": [],
   "source": [
    "import pandas as pd"
   ]
  },
  {
   "cell_type": "code",
   "execution_count": 6,
   "metadata": {},
   "outputs": [],
   "source": [
    "from datetime import datetime"
   ]
  },
  {
   "cell_type": "code",
   "execution_count": 11,
   "metadata": {},
   "outputs": [
    {
     "data": {
      "text/plain": [
       "'2020-09-10 11:47:06.410385'"
      ]
     },
     "execution_count": 11,
     "metadata": {},
     "output_type": "execute_result"
    }
   ],
   "source": [
    "str(datetime.now())"
   ]
  },
  {
   "cell_type": "code",
   "execution_count": 68,
   "metadata": {},
   "outputs": [
    {
     "name": "stdout",
     "output_type": "stream",
     "text": [
      "CPU times: user 979 µs, sys: 0 ns, total: 979 µs\n",
      "Wall time: 561 µs\n"
     ]
    }
   ],
   "source": [
    "%%time\n",
    "with open('last_fit_time.txt', 'a') as file:\n",
    "    file.write(str(datetime.now())+'\\n')"
   ]
  },
  {
   "cell_type": "code",
   "execution_count": 2,
   "metadata": {},
   "outputs": [
    {
     "name": "stdout",
     "output_type": "stream",
     "text": [
      "2020-09-10 11:52:04.703404\n",
      "\n",
      "CPU times: user 484 µs, sys: 0 ns, total: 484 µs\n",
      "Wall time: 273 µs\n"
     ]
    }
   ],
   "source": [
    "%%time\n",
    "with open('fit_logs.txt', 'r') as file:\n",
    "    res1 = file.readline(-1)\n",
    "    print(res1)"
   ]
  },
  {
   "cell_type": "code",
   "execution_count": 4,
   "metadata": {},
   "outputs": [
    {
     "name": "stdout",
     "output_type": "stream",
     "text": [
      "2020-09-10 11:55:47.845366\n",
      "\n",
      "CPU times: user 931 µs, sys: 150 µs, total: 1.08 ms\n",
      "Wall time: 680 µs\n"
     ]
    }
   ],
   "source": [
    "%%time\n",
    "with open('fit_logs.txt', 'r') as file:\n",
    "    last = file.readlines()[-1]\n",
    "    print(last)"
   ]
  },
  {
   "cell_type": "code",
   "execution_count": 42,
   "metadata": {},
   "outputs": [
    {
     "data": {
      "text/plain": [
       "Timestamp('2020-09-10 11:52:04.703404')"
      ]
     },
     "execution_count": 42,
     "metadata": {},
     "output_type": "execute_result"
    }
   ],
   "source": [
    "pd.to_datetime(res)"
   ]
  },
  {
   "cell_type": "code",
   "execution_count": 43,
   "metadata": {},
   "outputs": [
    {
     "data": {
      "text/plain": [
       "'2020-09-10 11:52:04.703404\\n'"
      ]
     },
     "execution_count": 43,
     "metadata": {},
     "output_type": "execute_result"
    }
   ],
   "source": [
    "res"
   ]
  },
  {
   "cell_type": "code",
   "execution_count": 53,
   "metadata": {},
   "outputs": [
    {
     "data": {
      "text/plain": [
       "'2020-09-10 11:53:08.248277\\n'"
      ]
     },
     "execution_count": 53,
     "metadata": {},
     "output_type": "execute_result"
    }
   ],
   "source": [
    "last"
   ]
  },
  {
   "cell_type": "code",
   "execution_count": null,
   "metadata": {},
   "outputs": [],
   "source": [
    "with open(fname, 'rb') as fh:\n",
    "    first = next(fh).decode()\n",
    "\n",
    "    fh.seek(-1024, 2)\n",
    "    last = fh.readlines()[-1].decode()"
   ]
  },
  {
   "cell_type": "code",
   "execution_count": 8,
   "metadata": {},
   "outputs": [],
   "source": [
    "import numpy as np\n",
    "import pandas as pd"
   ]
  },
  {
   "cell_type": "code",
   "execution_count": 2,
   "metadata": {},
   "outputs": [],
   "source": [
    "_1 = np.array([1,2,3,4])\n",
    "_2 = np.array([4,5,6,4])\n",
    "_3 = np.array([7,8,9,4])"
   ]
  },
  {
   "cell_type": "code",
   "execution_count": 3,
   "metadata": {},
   "outputs": [
    {
     "data": {
      "text/html": [
       "<div>\n",
       "<style scoped>\n",
       "    .dataframe tbody tr th:only-of-type {\n",
       "        vertical-align: middle;\n",
       "    }\n",
       "\n",
       "    .dataframe tbody tr th {\n",
       "        vertical-align: top;\n",
       "    }\n",
       "\n",
       "    .dataframe thead th {\n",
       "        text-align: right;\n",
       "    }\n",
       "</style>\n",
       "<table border=\"1\" class=\"dataframe\">\n",
       "  <thead>\n",
       "    <tr style=\"text-align: right;\">\n",
       "      <th></th>\n",
       "      <th>predictions</th>\n",
       "      <th>lower</th>\n",
       "      <th>upper</th>\n",
       "    </tr>\n",
       "  </thead>\n",
       "  <tbody>\n",
       "    <tr>\n",
       "      <th>0</th>\n",
       "      <td>1</td>\n",
       "      <td>4</td>\n",
       "      <td>7</td>\n",
       "    </tr>\n",
       "    <tr>\n",
       "      <th>1</th>\n",
       "      <td>2</td>\n",
       "      <td>5</td>\n",
       "      <td>8</td>\n",
       "    </tr>\n",
       "    <tr>\n",
       "      <th>2</th>\n",
       "      <td>3</td>\n",
       "      <td>6</td>\n",
       "      <td>9</td>\n",
       "    </tr>\n",
       "    <tr>\n",
       "      <th>3</th>\n",
       "      <td>4</td>\n",
       "      <td>4</td>\n",
       "      <td>4</td>\n",
       "    </tr>\n",
       "  </tbody>\n",
       "</table>\n",
       "</div>"
      ],
      "text/plain": [
       "   predictions  lower  upper\n",
       "0            1      4      7\n",
       "1            2      5      8\n",
       "2            3      6      9\n",
       "3            4      4      4"
      ]
     },
     "execution_count": 3,
     "metadata": {},
     "output_type": "execute_result"
    }
   ],
   "source": [
    "p = pd.DataFrame(np.vstack([_1,_2,_3]).T, columns=['predictions', 'lower', 'upper'])\n",
    "p"
   ]
  },
  {
   "cell_type": "code",
   "execution_count": 1,
   "metadata": {},
   "outputs": [],
   "source": [
    "_ = {'a':1, 'b':3}"
   ]
  },
  {
   "cell_type": "code",
   "execution_count": 6,
   "metadata": {},
   "outputs": [
    {
     "data": {
      "text/plain": [
       "['a', 'b']"
      ]
     },
     "execution_count": 6,
     "metadata": {},
     "output_type": "execute_result"
    }
   ],
   "source": [
    "list(_.keys())"
   ]
  },
  {
   "cell_type": "code",
   "execution_count": 8,
   "metadata": {},
   "outputs": [
    {
     "data": {
      "text/plain": [
       "array([1, 2, 3, 4, 0, 0, 0, 0, 0])"
      ]
     },
     "execution_count": 8,
     "metadata": {},
     "output_type": "execute_result"
    }
   ],
   "source": [
    "np.concatenate([_1,np.zeros((5,), dtype=int)])"
   ]
  },
  {
   "cell_type": "code",
   "execution_count": 4,
   "metadata": {},
   "outputs": [
    {
     "data": {
      "text/plain": [
       "(4,)"
      ]
     },
     "execution_count": 4,
     "metadata": {},
     "output_type": "execute_result"
    }
   ],
   "source": [
    "np.shape(_2)"
   ]
  },
  {
   "cell_type": "code",
   "execution_count": null,
   "metadata": {},
   "outputs": [],
   "source": [
    "np.ones_like()"
   ]
  },
  {
   "cell_type": "code",
   "execution_count": 12,
   "metadata": {},
   "outputs": [],
   "source": [
    "import numpy as np"
   ]
  },
  {
   "cell_type": "code",
   "execution_count": 13,
   "metadata": {},
   "outputs": [
    {
     "data": {
      "text/plain": [
       "135.35112345347574"
      ]
     },
     "execution_count": 13,
     "metadata": {},
     "output_type": "execute_result"
    }
   ],
   "source": [
    "np.log(1.07)/np.log(1.0005)"
   ]
  },
  {
   "cell_type": "code",
   "execution_count": 21,
   "metadata": {},
   "outputs": [],
   "source": [
    "anom_df = pd.DataFrame(dtype=int)"
   ]
  },
  {
   "cell_type": "code",
   "execution_count": 22,
   "metadata": {},
   "outputs": [
    {
     "data": {
      "text/html": [
       "<div>\n",
       "<style scoped>\n",
       "    .dataframe tbody tr th:only-of-type {\n",
       "        vertical-align: middle;\n",
       "    }\n",
       "\n",
       "    .dataframe tbody tr th {\n",
       "        vertical-align: top;\n",
       "    }\n",
       "\n",
       "    .dataframe thead th {\n",
       "        text-align: right;\n",
       "    }\n",
       "</style>\n",
       "<table border=\"1\" class=\"dataframe\">\n",
       "  <thead>\n",
       "    <tr style=\"text-align: right;\">\n",
       "      <th></th>\n",
       "      <th>0</th>\n",
       "    </tr>\n",
       "  </thead>\n",
       "  <tbody>\n",
       "    <tr>\n",
       "      <th>0</th>\n",
       "      <td>1.0</td>\n",
       "    </tr>\n",
       "    <tr>\n",
       "      <th>1</th>\n",
       "      <td>2.0</td>\n",
       "    </tr>\n",
       "    <tr>\n",
       "      <th>2</th>\n",
       "      <td>3.0</td>\n",
       "    </tr>\n",
       "    <tr>\n",
       "      <th>3</th>\n",
       "      <td>4.0</td>\n",
       "    </tr>\n",
       "  </tbody>\n",
       "</table>\n",
       "</div>"
      ],
      "text/plain": [
       "     0\n",
       "0  1.0\n",
       "1  2.0\n",
       "2  3.0\n",
       "3  4.0"
      ]
     },
     "execution_count": 22,
     "metadata": {},
     "output_type": "execute_result"
    }
   ],
   "source": [
    "pd.concat([anom_df, p['predictions']])"
   ]
  },
  {
   "cell_type": "code",
   "execution_count": 24,
   "metadata": {},
   "outputs": [],
   "source": [
    "d = p['predictions']"
   ]
  },
  {
   "cell_type": "code",
   "execution_count": 27,
   "metadata": {},
   "outputs": [
    {
     "data": {
      "text/plain": [
       "4"
      ]
     },
     "execution_count": 27,
     "metadata": {},
     "output_type": "execute_result"
    }
   ],
   "source": [
    "d.iloc[-1]"
   ]
  },
  {
   "cell_type": "code",
   "execution_count": 36,
   "metadata": {},
   "outputs": [
    {
     "data": {
      "text/html": [
       "<div>\n",
       "<style scoped>\n",
       "    .dataframe tbody tr th:only-of-type {\n",
       "        vertical-align: middle;\n",
       "    }\n",
       "\n",
       "    .dataframe tbody tr th {\n",
       "        vertical-align: top;\n",
       "    }\n",
       "\n",
       "    .dataframe thead th {\n",
       "        text-align: right;\n",
       "    }\n",
       "</style>\n",
       "<table border=\"1\" class=\"dataframe\">\n",
       "  <thead>\n",
       "    <tr style=\"text-align: right;\">\n",
       "      <th></th>\n",
       "      <th>0</th>\n",
       "    </tr>\n",
       "  </thead>\n",
       "  <tbody>\n",
       "    <tr>\n",
       "      <th>0</th>\n",
       "      <td>NaN</td>\n",
       "    </tr>\n",
       "  </tbody>\n",
       "</table>\n",
       "</div>"
      ],
      "text/plain": [
       "    0\n",
       "0 NaN"
      ]
     },
     "execution_count": 36,
     "metadata": {},
     "output_type": "execute_result"
    }
   ],
   "source": [
    "pd.DataFrame([np.NaN])"
   ]
  },
  {
   "cell_type": "code",
   "execution_count": 11,
   "metadata": {},
   "outputs": [],
   "source": [
    "p1 = p[['predictions', 'lower']]\n",
    "p2 = p[['predictions', 'upper']].iloc[:2,:]"
   ]
  },
  {
   "cell_type": "code",
   "execution_count": 13,
   "metadata": {},
   "outputs": [
    {
     "data": {
      "text/html": [
       "<div>\n",
       "<style scoped>\n",
       "    .dataframe tbody tr th:only-of-type {\n",
       "        vertical-align: middle;\n",
       "    }\n",
       "\n",
       "    .dataframe tbody tr th {\n",
       "        vertical-align: top;\n",
       "    }\n",
       "\n",
       "    .dataframe thead th {\n",
       "        text-align: right;\n",
       "    }\n",
       "</style>\n",
       "<table border=\"1\" class=\"dataframe\">\n",
       "  <thead>\n",
       "    <tr style=\"text-align: right;\">\n",
       "      <th></th>\n",
       "      <th>predictions</th>\n",
       "      <th>lower</th>\n",
       "      <th>upper</th>\n",
       "    </tr>\n",
       "  </thead>\n",
       "  <tbody>\n",
       "    <tr>\n",
       "      <th>0</th>\n",
       "      <td>1</td>\n",
       "      <td>4</td>\n",
       "      <td>7.0</td>\n",
       "    </tr>\n",
       "    <tr>\n",
       "      <th>1</th>\n",
       "      <td>2</td>\n",
       "      <td>5</td>\n",
       "      <td>8.0</td>\n",
       "    </tr>\n",
       "    <tr>\n",
       "      <th>2</th>\n",
       "      <td>3</td>\n",
       "      <td>6</td>\n",
       "      <td>NaN</td>\n",
       "    </tr>\n",
       "    <tr>\n",
       "      <th>3</th>\n",
       "      <td>4</td>\n",
       "      <td>4</td>\n",
       "      <td>NaN</td>\n",
       "    </tr>\n",
       "  </tbody>\n",
       "</table>\n",
       "</div>"
      ],
      "text/plain": [
       "   predictions  lower  upper\n",
       "0            1      4    7.0\n",
       "1            2      5    8.0\n",
       "2            3      6    NaN\n",
       "3            4      4    NaN"
      ]
     },
     "execution_count": 13,
     "metadata": {},
     "output_type": "execute_result"
    }
   ],
   "source": [
    "pd.merge(p1,p2, on='predictions', how='left')"
   ]
  },
  {
   "cell_type": "code",
   "execution_count": 14,
   "metadata": {},
   "outputs": [
    {
     "data": {
      "text/html": [
       "<div>\n",
       "<style scoped>\n",
       "    .dataframe tbody tr th:only-of-type {\n",
       "        vertical-align: middle;\n",
       "    }\n",
       "\n",
       "    .dataframe tbody tr th {\n",
       "        vertical-align: top;\n",
       "    }\n",
       "\n",
       "    .dataframe thead th {\n",
       "        text-align: right;\n",
       "    }\n",
       "</style>\n",
       "<table border=\"1\" class=\"dataframe\">\n",
       "  <thead>\n",
       "    <tr style=\"text-align: right;\">\n",
       "      <th></th>\n",
       "      <th>predictions</th>\n",
       "      <th>lower</th>\n",
       "      <th>upper</th>\n",
       "    </tr>\n",
       "  </thead>\n",
       "  <tbody>\n",
       "    <tr>\n",
       "      <th>0</th>\n",
       "      <td>1</td>\n",
       "      <td>4</td>\n",
       "      <td>7</td>\n",
       "    </tr>\n",
       "    <tr>\n",
       "      <th>1</th>\n",
       "      <td>2</td>\n",
       "      <td>5</td>\n",
       "      <td>8</td>\n",
       "    </tr>\n",
       "  </tbody>\n",
       "</table>\n",
       "</div>"
      ],
      "text/plain": [
       "   predictions  lower  upper\n",
       "0            1      4      7\n",
       "1            2      5      8"
      ]
     },
     "execution_count": 14,
     "metadata": {},
     "output_type": "execute_result"
    }
   ],
   "source": [
    "p1.merge(p2)"
   ]
  },
  {
   "cell_type": "code",
   "execution_count": 16,
   "metadata": {},
   "outputs": [
    {
     "data": {
      "text/html": [
       "<div>\n",
       "<style scoped>\n",
       "    .dataframe tbody tr th:only-of-type {\n",
       "        vertical-align: middle;\n",
       "    }\n",
       "\n",
       "    .dataframe tbody tr th {\n",
       "        vertical-align: top;\n",
       "    }\n",
       "\n",
       "    .dataframe thead th {\n",
       "        text-align: right;\n",
       "    }\n",
       "</style>\n",
       "<table border=\"1\" class=\"dataframe\">\n",
       "  <thead>\n",
       "    <tr style=\"text-align: right;\">\n",
       "      <th></th>\n",
       "      <th>predictions</th>\n",
       "      <th>lower</th>\n",
       "    </tr>\n",
       "  </thead>\n",
       "  <tbody>\n",
       "    <tr>\n",
       "      <th>0</th>\n",
       "      <td>1</td>\n",
       "      <td>4</td>\n",
       "    </tr>\n",
       "    <tr>\n",
       "      <th>3</th>\n",
       "      <td>4</td>\n",
       "      <td>4</td>\n",
       "    </tr>\n",
       "    <tr>\n",
       "      <th>1</th>\n",
       "      <td>2</td>\n",
       "      <td>5</td>\n",
       "    </tr>\n",
       "    <tr>\n",
       "      <th>2</th>\n",
       "      <td>3</td>\n",
       "      <td>6</td>\n",
       "    </tr>\n",
       "  </tbody>\n",
       "</table>\n",
       "</div>"
      ],
      "text/plain": [
       "   predictions  lower\n",
       "0            1      4\n",
       "3            4      4\n",
       "1            2      5\n",
       "2            3      6"
      ]
     },
     "execution_count": 16,
     "metadata": {},
     "output_type": "execute_result"
    }
   ],
   "source": [
    "p1.sort_values(by='lower')"
   ]
  },
  {
   "cell_type": "code",
   "execution_count": 24,
   "metadata": {},
   "outputs": [],
   "source": [
    "t = pd.concat([p1, p1], axis=0, ignore_index=True)['lower'].unique()"
   ]
  },
  {
   "cell_type": "code",
   "execution_count": 32,
   "metadata": {},
   "outputs": [],
   "source": [
    "_ = t.sort()"
   ]
  },
  {
   "cell_type": "code",
   "execution_count": 31,
   "metadata": {},
   "outputs": [
    {
     "data": {
      "text/plain": [
       "array([6, 5, 4])"
      ]
     },
     "execution_count": 31,
     "metadata": {},
     "output_type": "execute_result"
    }
   ],
   "source": [
    "t[::-1]"
   ]
  },
  {
   "cell_type": "code",
   "execution_count": 34,
   "metadata": {},
   "outputs": [
    {
     "ename": "AttributeError",
     "evalue": "module 'pandas' has no attribute 'dropna'",
     "output_type": "error",
     "traceback": [
      "\u001b[0;31m---------------------------------------------------------------------------\u001b[0m",
      "\u001b[0;31mAttributeError\u001b[0m                            Traceback (most recent call last)",
      "\u001b[0;32m<ipython-input-34-560529881481>\u001b[0m in \u001b[0;36m<module>\u001b[0;34m\u001b[0m\n\u001b[0;32m----> 1\u001b[0;31m \u001b[0mpd\u001b[0m\u001b[0;34m.\u001b[0m\u001b[0mdropna\u001b[0m\u001b[0;34m(\u001b[0m\u001b[0;34m)\u001b[0m\u001b[0;34m\u001b[0m\u001b[0;34m\u001b[0m\u001b[0m\n\u001b[0m",
      "\u001b[0;31mAttributeError\u001b[0m: module 'pandas' has no attribute 'dropna'"
     ]
    }
   ],
   "source": [
    "p1.dropna(how='all', subset=['actual'])"
   ]
  },
  {
   "cell_type": "code",
   "execution_count": 36,
   "metadata": {},
   "outputs": [
    {
     "name": "stderr",
     "output_type": "stream",
     "text": [
      "/home/danil/.local/lib/python3.6/site-packages/ipykernel_launcher.py:1: FutureWarning: The pandas.datetime class is deprecated and will be removed from pandas in a future version. Import from datetime instead.\n",
      "  \"\"\"Entry point for launching an IPython kernel.\n"
     ]
    },
    {
     "ename": "TypeError",
     "evalue": "an integer is required (got type str)",
     "output_type": "error",
     "traceback": [
      "\u001b[0;31m---------------------------------------------------------------------------\u001b[0m",
      "\u001b[0;31mTypeError\u001b[0m                                 Traceback (most recent call last)",
      "\u001b[0;32m<ipython-input-36-c53c8f589c1a>\u001b[0m in \u001b[0;36m<module>\u001b[0;34m\u001b[0m\n\u001b[0;32m----> 1\u001b[0;31m \u001b[0mpd\u001b[0m\u001b[0;34m.\u001b[0m\u001b[0mdatetime\u001b[0m\u001b[0;34m(\u001b[0m\u001b[0;34m'2017.05.06'\u001b[0m\u001b[0;34m)\u001b[0m\u001b[0;34m\u001b[0m\u001b[0;34m\u001b[0m\u001b[0m\n\u001b[0m",
      "\u001b[0;32m~/.local/lib/python3.6/site-packages/pandas/__init__.py\u001b[0m in \u001b[0;36m__new__\u001b[0;34m(cls, *args, **kwargs)\u001b[0m\n\u001b[1;32m    332\u001b[0m             \u001b[0;32mfrom\u001b[0m \u001b[0mdatetime\u001b[0m \u001b[0;32mimport\u001b[0m \u001b[0mdatetime\u001b[0m \u001b[0;32mas\u001b[0m \u001b[0mdt\u001b[0m\u001b[0;34m\u001b[0m\u001b[0;34m\u001b[0m\u001b[0m\n\u001b[1;32m    333\u001b[0m \u001b[0;34m\u001b[0m\u001b[0m\n\u001b[0;32m--> 334\u001b[0;31m             \u001b[0;32mreturn\u001b[0m \u001b[0mdt\u001b[0m\u001b[0;34m(\u001b[0m\u001b[0;34m*\u001b[0m\u001b[0margs\u001b[0m\u001b[0;34m,\u001b[0m \u001b[0;34m**\u001b[0m\u001b[0mkwargs\u001b[0m\u001b[0;34m)\u001b[0m\u001b[0;34m\u001b[0m\u001b[0;34m\u001b[0m\u001b[0m\n\u001b[0m\u001b[1;32m    335\u001b[0m \u001b[0;34m\u001b[0m\u001b[0m\n\u001b[1;32m    336\u001b[0m     \u001b[0mdatetime\u001b[0m \u001b[0;34m=\u001b[0m \u001b[0m__DatetimeSub\u001b[0m\u001b[0;34m\u001b[0m\u001b[0;34m\u001b[0m\u001b[0m\n",
      "\u001b[0;31mTypeError\u001b[0m: an integer is required (got type str)"
     ]
    }
   ],
   "source": [
    "pd.datetime('2017.05.06')"
   ]
  },
  {
   "cell_type": "code",
   "execution_count": 1,
   "metadata": {},
   "outputs": [],
   "source": [
    "from datetime import datetime"
   ]
  },
  {
   "cell_type": "code",
   "execution_count": 3,
   "metadata": {},
   "outputs": [
    {
     "ename": "NameError",
     "evalue": "name 'da' is not defined",
     "output_type": "error",
     "traceback": [
      "\u001b[0;31m---------------------------------------------------------------------------\u001b[0m",
      "\u001b[0;31mNameError\u001b[0m                                 Traceback (most recent call last)",
      "\u001b[0;32m<ipython-input-3-948bfaaa301d>\u001b[0m in \u001b[0;36m<module>\u001b[0;34m\u001b[0m\n\u001b[0;32m----> 1\u001b[0;31m \u001b[0mda\u001b[0m\u001b[0;34m\u001b[0m\u001b[0;34m\u001b[0m\u001b[0m\n\u001b[0m",
      "\u001b[0;31mNameError\u001b[0m: name 'da' is not defined"
     ]
    }
   ],
   "source": [
    "da"
   ]
  },
  {
   "cell_type": "code",
   "execution_count": 8,
   "metadata": {},
   "outputs": [],
   "source": [
    "delta = timedelta(seconds = int('300S'[:-1]))\n",
    "delta"
   ]
  },
  {
   "cell_type": "code",
   "execution_count": 4,
   "metadata": {},
   "outputs": [
    {
     "data": {
      "text/plain": [
       "Timestamp('2020-09-22 17:37:19.162997')"
      ]
     },
     "execution_count": 4,
     "metadata": {},
     "output_type": "execute_result"
    }
   ],
   "source": [
    "a = pd.to_datetime(datetime.now())\n",
    "a"
   ]
  },
  {
   "cell_type": "code",
   "execution_count": 19,
   "metadata": {},
   "outputs": [
    {
     "data": {
      "text/plain": [
       "Timestamp('2020-09-21 13:36:01.719063')"
      ]
     },
     "execution_count": 19,
     "metadata": {},
     "output_type": "execute_result"
    }
   ],
   "source": [
    "a+delta"
   ]
  },
  {
   "cell_type": "code",
   "execution_count": 5,
   "metadata": {},
   "outputs": [
    {
     "data": {
      "text/plain": [
       "1600796239.162997"
      ]
     },
     "execution_count": 5,
     "metadata": {},
     "output_type": "execute_result"
    }
   ],
   "source": [
    "a.timestamp()"
   ]
  },
  {
   "cell_type": "code",
   "execution_count": 3,
   "metadata": {},
   "outputs": [
    {
     "data": {
      "text/html": [
       "<div>\n",
       "<style scoped>\n",
       "    .dataframe tbody tr th:only-of-type {\n",
       "        vertical-align: middle;\n",
       "    }\n",
       "\n",
       "    .dataframe tbody tr th {\n",
       "        vertical-align: top;\n",
       "    }\n",
       "\n",
       "    .dataframe thead th {\n",
       "        text-align: right;\n",
       "    }\n",
       "</style>\n",
       "<table border=\"1\" class=\"dataframe\">\n",
       "  <thead>\n",
       "    <tr style=\"text-align: right;\">\n",
       "      <th></th>\n",
       "      <th>flow_key</th>\n",
       "      <th>src_ip_numeric</th>\n",
       "      <th>src_ip</th>\n",
       "      <th>src_port</th>\n",
       "      <th>dst_ip</th>\n",
       "      <th>dst_port</th>\n",
       "      <th>proto</th>\n",
       "      <th>pktTotalCount</th>\n",
       "      <th>octetTotalCount</th>\n",
       "      <th>min_ps</th>\n",
       "      <th>...</th>\n",
       "      <th>b_flowEnd</th>\n",
       "      <th>b_flowDuration</th>\n",
       "      <th>b_min_piat</th>\n",
       "      <th>b_max_piat</th>\n",
       "      <th>b_avg_piat</th>\n",
       "      <th>b_std_dev_piat</th>\n",
       "      <th>flowEndReason</th>\n",
       "      <th>category</th>\n",
       "      <th>application_protocol</th>\n",
       "      <th>web_service</th>\n",
       "    </tr>\n",
       "  </thead>\n",
       "  <tbody>\n",
       "    <tr>\n",
       "      <th>0</th>\n",
       "      <td>9d736d3d3ce9905c0c46186254f5101a</td>\n",
       "      <td>3232266498</td>\n",
       "      <td>192.168.121.2</td>\n",
       "      <td>49361</td>\n",
       "      <td>172.16.255.200</td>\n",
       "      <td>53</td>\n",
       "      <td>17</td>\n",
       "      <td>2</td>\n",
       "      <td>197</td>\n",
       "      <td>71</td>\n",
       "      <td>...</td>\n",
       "      <td>1.559764e+09</td>\n",
       "      <td>0.0</td>\n",
       "      <td>0.0</td>\n",
       "      <td>0.0</td>\n",
       "      <td>0.0</td>\n",
       "      <td>0.0</td>\n",
       "      <td>2</td>\n",
       "      <td>Web</td>\n",
       "      <td>DNS</td>\n",
       "      <td>Microsoft</td>\n",
       "    </tr>\n",
       "    <tr>\n",
       "      <th>1</th>\n",
       "      <td>60481cf086ea11766185490fd69dea5b</td>\n",
       "      <td>3232266498</td>\n",
       "      <td>192.168.121.2</td>\n",
       "      <td>52448</td>\n",
       "      <td>172.16.255.200</td>\n",
       "      <td>53</td>\n",
       "      <td>17</td>\n",
       "      <td>2</td>\n",
       "      <td>261</td>\n",
       "      <td>85</td>\n",
       "      <td>...</td>\n",
       "      <td>1.559764e+09</td>\n",
       "      <td>0.0</td>\n",
       "      <td>0.0</td>\n",
       "      <td>0.0</td>\n",
       "      <td>0.0</td>\n",
       "      <td>0.0</td>\n",
       "      <td>2</td>\n",
       "      <td>Network</td>\n",
       "      <td>Unknown</td>\n",
       "      <td>DNS</td>\n",
       "    </tr>\n",
       "    <tr>\n",
       "      <th>2</th>\n",
       "      <td>fcdbc14c12585b5c08acc606e0a15f48</td>\n",
       "      <td>3232266498</td>\n",
       "      <td>192.168.121.2</td>\n",
       "      <td>53174</td>\n",
       "      <td>172.16.255.200</td>\n",
       "      <td>53</td>\n",
       "      <td>17</td>\n",
       "      <td>2</td>\n",
       "      <td>172</td>\n",
       "      <td>59</td>\n",
       "      <td>...</td>\n",
       "      <td>1.559764e+09</td>\n",
       "      <td>0.0</td>\n",
       "      <td>0.0</td>\n",
       "      <td>0.0</td>\n",
       "      <td>0.0</td>\n",
       "      <td>0.0</td>\n",
       "      <td>2</td>\n",
       "      <td>Network</td>\n",
       "      <td>Unknown</td>\n",
       "      <td>DNS</td>\n",
       "    </tr>\n",
       "    <tr>\n",
       "      <th>3</th>\n",
       "      <td>53ba0e3f4d073d50e7edf8138ad4cafb</td>\n",
       "      <td>3232266498</td>\n",
       "      <td>192.168.121.2</td>\n",
       "      <td>55039</td>\n",
       "      <td>172.16.255.200</td>\n",
       "      <td>53</td>\n",
       "      <td>17</td>\n",
       "      <td>2</td>\n",
       "      <td>306</td>\n",
       "      <td>77</td>\n",
       "      <td>...</td>\n",
       "      <td>1.559764e+09</td>\n",
       "      <td>0.0</td>\n",
       "      <td>0.0</td>\n",
       "      <td>0.0</td>\n",
       "      <td>0.0</td>\n",
       "      <td>0.0</td>\n",
       "      <td>2</td>\n",
       "      <td>Web</td>\n",
       "      <td>DNS</td>\n",
       "      <td>Microsoft</td>\n",
       "    </tr>\n",
       "    <tr>\n",
       "      <th>4</th>\n",
       "      <td>8bb9046b7995f578e09529b768375824</td>\n",
       "      <td>3232266498</td>\n",
       "      <td>192.168.121.2</td>\n",
       "      <td>55662</td>\n",
       "      <td>172.16.255.200</td>\n",
       "      <td>53</td>\n",
       "      <td>17</td>\n",
       "      <td>2</td>\n",
       "      <td>197</td>\n",
       "      <td>71</td>\n",
       "      <td>...</td>\n",
       "      <td>1.559764e+09</td>\n",
       "      <td>0.0</td>\n",
       "      <td>0.0</td>\n",
       "      <td>0.0</td>\n",
       "      <td>0.0</td>\n",
       "      <td>0.0</td>\n",
       "      <td>2</td>\n",
       "      <td>Web</td>\n",
       "      <td>DNS</td>\n",
       "      <td>Microsoft</td>\n",
       "    </tr>\n",
       "    <tr>\n",
       "      <th>...</th>\n",
       "      <td>...</td>\n",
       "      <td>...</td>\n",
       "      <td>...</td>\n",
       "      <td>...</td>\n",
       "      <td>...</td>\n",
       "      <td>...</td>\n",
       "      <td>...</td>\n",
       "      <td>...</td>\n",
       "      <td>...</td>\n",
       "      <td>...</td>\n",
       "      <td>...</td>\n",
       "      <td>...</td>\n",
       "      <td>...</td>\n",
       "      <td>...</td>\n",
       "      <td>...</td>\n",
       "      <td>...</td>\n",
       "      <td>...</td>\n",
       "      <td>...</td>\n",
       "      <td>...</td>\n",
       "      <td>...</td>\n",
       "      <td>...</td>\n",
       "    </tr>\n",
       "    <tr>\n",
       "      <th>39426</th>\n",
       "      <td>7c4c2b8eae91da861561852b936dc05c</td>\n",
       "      <td>3232268540</td>\n",
       "      <td>192.168.128.252</td>\n",
       "      <td>52813</td>\n",
       "      <td>172.16.255.200</td>\n",
       "      <td>53</td>\n",
       "      <td>17</td>\n",
       "      <td>2</td>\n",
       "      <td>138</td>\n",
       "      <td>61</td>\n",
       "      <td>...</td>\n",
       "      <td>1.559770e+09</td>\n",
       "      <td>0.0</td>\n",
       "      <td>0.0</td>\n",
       "      <td>0.0</td>\n",
       "      <td>0.0</td>\n",
       "      <td>0.0</td>\n",
       "      <td>2</td>\n",
       "      <td>Web</td>\n",
       "      <td>DNS</td>\n",
       "      <td>Google</td>\n",
       "    </tr>\n",
       "    <tr>\n",
       "      <th>39427</th>\n",
       "      <td>9c404294609fa77d0e00133d74fa5970</td>\n",
       "      <td>3232268540</td>\n",
       "      <td>192.168.128.252</td>\n",
       "      <td>62328</td>\n",
       "      <td>172.16.255.200</td>\n",
       "      <td>53</td>\n",
       "      <td>17</td>\n",
       "      <td>2</td>\n",
       "      <td>317</td>\n",
       "      <td>79</td>\n",
       "      <td>...</td>\n",
       "      <td>1.559770e+09</td>\n",
       "      <td>0.0</td>\n",
       "      <td>0.0</td>\n",
       "      <td>0.0</td>\n",
       "      <td>0.0</td>\n",
       "      <td>0.0</td>\n",
       "      <td>2</td>\n",
       "      <td>Web</td>\n",
       "      <td>DNS</td>\n",
       "      <td>Microsoft</td>\n",
       "    </tr>\n",
       "    <tr>\n",
       "      <th>39428</th>\n",
       "      <td>6cace9373aa898dcc050144b259a6b89</td>\n",
       "      <td>3232268540</td>\n",
       "      <td>192.168.128.252</td>\n",
       "      <td>50494</td>\n",
       "      <td>172.16.255.200</td>\n",
       "      <td>53</td>\n",
       "      <td>17</td>\n",
       "      <td>2</td>\n",
       "      <td>268</td>\n",
       "      <td>79</td>\n",
       "      <td>...</td>\n",
       "      <td>1.559771e+09</td>\n",
       "      <td>0.0</td>\n",
       "      <td>0.0</td>\n",
       "      <td>0.0</td>\n",
       "      <td>0.0</td>\n",
       "      <td>0.0</td>\n",
       "      <td>2</td>\n",
       "      <td>Web</td>\n",
       "      <td>DNS</td>\n",
       "      <td>Microsoft</td>\n",
       "    </tr>\n",
       "    <tr>\n",
       "      <th>39429</th>\n",
       "      <td>b7dd4cfacaa51e075ae6f76cb3c78109</td>\n",
       "      <td>3232268540</td>\n",
       "      <td>192.168.128.252</td>\n",
       "      <td>65161</td>\n",
       "      <td>172.16.255.200</td>\n",
       "      <td>53</td>\n",
       "      <td>17</td>\n",
       "      <td>2</td>\n",
       "      <td>166</td>\n",
       "      <td>75</td>\n",
       "      <td>...</td>\n",
       "      <td>1.559771e+09</td>\n",
       "      <td>0.0</td>\n",
       "      <td>0.0</td>\n",
       "      <td>0.0</td>\n",
       "      <td>0.0</td>\n",
       "      <td>0.0</td>\n",
       "      <td>2</td>\n",
       "      <td>Web</td>\n",
       "      <td>DNS</td>\n",
       "      <td>GoogleServices</td>\n",
       "    </tr>\n",
       "    <tr>\n",
       "      <th>39430</th>\n",
       "      <td>3d827474a44a2c34abfd64ab7bf284c3</td>\n",
       "      <td>3232268540</td>\n",
       "      <td>192.168.128.252</td>\n",
       "      <td>57053</td>\n",
       "      <td>172.16.255.200</td>\n",
       "      <td>53</td>\n",
       "      <td>17</td>\n",
       "      <td>2</td>\n",
       "      <td>162</td>\n",
       "      <td>73</td>\n",
       "      <td>...</td>\n",
       "      <td>1.559771e+09</td>\n",
       "      <td>0.0</td>\n",
       "      <td>0.0</td>\n",
       "      <td>0.0</td>\n",
       "      <td>0.0</td>\n",
       "      <td>0.0</td>\n",
       "      <td>2</td>\n",
       "      <td>Web</td>\n",
       "      <td>DNS</td>\n",
       "      <td>GoogleServices</td>\n",
       "    </tr>\n",
       "  </tbody>\n",
       "</table>\n",
       "<p>39431 rows × 50 columns</p>\n",
       "</div>"
      ],
      "text/plain": [
       "                               flow_key  src_ip_numeric           src_ip  \\\n",
       "0      9d736d3d3ce9905c0c46186254f5101a      3232266498    192.168.121.2   \n",
       "1      60481cf086ea11766185490fd69dea5b      3232266498    192.168.121.2   \n",
       "2      fcdbc14c12585b5c08acc606e0a15f48      3232266498    192.168.121.2   \n",
       "3      53ba0e3f4d073d50e7edf8138ad4cafb      3232266498    192.168.121.2   \n",
       "4      8bb9046b7995f578e09529b768375824      3232266498    192.168.121.2   \n",
       "...                                 ...             ...              ...   \n",
       "39426  7c4c2b8eae91da861561852b936dc05c      3232268540  192.168.128.252   \n",
       "39427  9c404294609fa77d0e00133d74fa5970      3232268540  192.168.128.252   \n",
       "39428  6cace9373aa898dcc050144b259a6b89      3232268540  192.168.128.252   \n",
       "39429  b7dd4cfacaa51e075ae6f76cb3c78109      3232268540  192.168.128.252   \n",
       "39430  3d827474a44a2c34abfd64ab7bf284c3      3232268540  192.168.128.252   \n",
       "\n",
       "       src_port          dst_ip  dst_port  proto  pktTotalCount  \\\n",
       "0         49361  172.16.255.200        53     17              2   \n",
       "1         52448  172.16.255.200        53     17              2   \n",
       "2         53174  172.16.255.200        53     17              2   \n",
       "3         55039  172.16.255.200        53     17              2   \n",
       "4         55662  172.16.255.200        53     17              2   \n",
       "...         ...             ...       ...    ...            ...   \n",
       "39426     52813  172.16.255.200        53     17              2   \n",
       "39427     62328  172.16.255.200        53     17              2   \n",
       "39428     50494  172.16.255.200        53     17              2   \n",
       "39429     65161  172.16.255.200        53     17              2   \n",
       "39430     57053  172.16.255.200        53     17              2   \n",
       "\n",
       "       octetTotalCount  min_ps  ...     b_flowEnd  b_flowDuration  b_min_piat  \\\n",
       "0                  197      71  ...  1.559764e+09             0.0         0.0   \n",
       "1                  261      85  ...  1.559764e+09             0.0         0.0   \n",
       "2                  172      59  ...  1.559764e+09             0.0         0.0   \n",
       "3                  306      77  ...  1.559764e+09             0.0         0.0   \n",
       "4                  197      71  ...  1.559764e+09             0.0         0.0   \n",
       "...                ...     ...  ...           ...             ...         ...   \n",
       "39426              138      61  ...  1.559770e+09             0.0         0.0   \n",
       "39427              317      79  ...  1.559770e+09             0.0         0.0   \n",
       "39428              268      79  ...  1.559771e+09             0.0         0.0   \n",
       "39429              166      75  ...  1.559771e+09             0.0         0.0   \n",
       "39430              162      73  ...  1.559771e+09             0.0         0.0   \n",
       "\n",
       "       b_max_piat  b_avg_piat  b_std_dev_piat  flowEndReason  category  \\\n",
       "0             0.0         0.0             0.0              2       Web   \n",
       "1             0.0         0.0             0.0              2   Network   \n",
       "2             0.0         0.0             0.0              2   Network   \n",
       "3             0.0         0.0             0.0              2       Web   \n",
       "4             0.0         0.0             0.0              2       Web   \n",
       "...           ...         ...             ...            ...       ...   \n",
       "39426         0.0         0.0             0.0              2       Web   \n",
       "39427         0.0         0.0             0.0              2       Web   \n",
       "39428         0.0         0.0             0.0              2       Web   \n",
       "39429         0.0         0.0             0.0              2       Web   \n",
       "39430         0.0         0.0             0.0              2       Web   \n",
       "\n",
       "       application_protocol     web_service  \n",
       "0                       DNS       Microsoft  \n",
       "1                   Unknown             DNS  \n",
       "2                   Unknown             DNS  \n",
       "3                       DNS       Microsoft  \n",
       "4                       DNS       Microsoft  \n",
       "...                     ...             ...  \n",
       "39426                   DNS          Google  \n",
       "39427                   DNS       Microsoft  \n",
       "39428                   DNS       Microsoft  \n",
       "39429                   DNS  GoogleServices  \n",
       "39430                   DNS  GoogleServices  \n",
       "\n",
       "[39431 rows x 50 columns]"
      ]
     },
     "execution_count": 3,
     "metadata": {},
     "output_type": "execute_result"
    }
   ],
   "source": [
    "k = pd.read_csv('Model study/dst_ip_data_test.csv')\n",
    "k"
   ]
  },
  {
   "cell_type": "code",
   "execution_count": 10,
   "metadata": {},
   "outputs": [
    {
     "data": {
      "text/plain": [
       "Timestamp('2020-09-21 13:36:01')"
      ]
     },
     "execution_count": 10,
     "metadata": {},
     "output_type": "execute_result"
    }
   ],
   "source": [
    "pd.to_datetime('2020/09/21 13:36:01')"
   ]
  },
  {
   "cell_type": "code",
   "execution_count": 12,
   "metadata": {},
   "outputs": [
    {
     "data": {
      "text/plain": [
       "0        False\n",
       "1         True\n",
       "2         True\n",
       "3         True\n",
       "4         True\n",
       "         ...  \n",
       "39426     True\n",
       "39427     True\n",
       "39428     True\n",
       "39429     True\n",
       "39430     True\n",
       "Name: src_port, Length: 39431, dtype: bool"
      ]
     },
     "execution_count": 12,
     "metadata": {},
     "output_type": "execute_result"
    }
   ],
   "source": [
    "c1 = k['src_port'] > 49361\n",
    "c1"
   ]
  },
  {
   "cell_type": "code",
   "execution_count": 16,
   "metadata": {},
   "outputs": [
    {
     "data": {
      "text/plain": [
       "0         True\n",
       "1        False\n",
       "2        False\n",
       "3        False\n",
       "4        False\n",
       "         ...  \n",
       "39426    False\n",
       "39427    False\n",
       "39428    False\n",
       "39429    False\n",
       "39430    False\n",
       "Name: src_port, Length: 39431, dtype: bool"
      ]
     },
     "execution_count": 16,
     "metadata": {},
     "output_type": "execute_result"
    }
   ],
   "source": [
    "c2 = k['src_port'] < 49500\n",
    "c2"
   ]
  },
  {
   "cell_type": "code",
   "execution_count": 18,
   "metadata": {},
   "outputs": [
    {
     "data": {
      "text/plain": [
       "array([False,  True])"
      ]
     },
     "execution_count": 18,
     "metadata": {},
     "output_type": "execute_result"
    }
   ],
   "source": [
    "(c1 & c2).unique()"
   ]
  },
  {
   "cell_type": "code",
   "execution_count": 23,
   "metadata": {},
   "outputs": [
    {
     "data": {
      "text/html": [
       "<div>\n",
       "<style scoped>\n",
       "    .dataframe tbody tr th:only-of-type {\n",
       "        vertical-align: middle;\n",
       "    }\n",
       "\n",
       "    .dataframe tbody tr th {\n",
       "        vertical-align: top;\n",
       "    }\n",
       "\n",
       "    .dataframe thead th {\n",
       "        text-align: right;\n",
       "    }\n",
       "</style>\n",
       "<table border=\"1\" class=\"dataframe\">\n",
       "  <thead>\n",
       "    <tr style=\"text-align: right;\">\n",
       "      <th></th>\n",
       "      <th>1</th>\n",
       "      <th>2</th>\n",
       "    </tr>\n",
       "  </thead>\n",
       "  <tbody>\n",
       "  </tbody>\n",
       "</table>\n",
       "</div>"
      ],
      "text/plain": [
       "Empty DataFrame\n",
       "Columns: [1, 2]\n",
       "Index: []"
      ]
     },
     "execution_count": 23,
     "metadata": {},
     "output_type": "execute_result"
    }
   ],
   "source": [
    "t = pd.DataFrame(columns=['1','2'])\n",
    "t"
   ]
  },
  {
   "cell_type": "code",
   "execution_count": 37,
   "metadata": {},
   "outputs": [
    {
     "data": {
      "text/html": [
       "<div>\n",
       "<style scoped>\n",
       "    .dataframe tbody tr th:only-of-type {\n",
       "        vertical-align: middle;\n",
       "    }\n",
       "\n",
       "    .dataframe tbody tr th {\n",
       "        vertical-align: top;\n",
       "    }\n",
       "\n",
       "    .dataframe thead th {\n",
       "        text-align: right;\n",
       "    }\n",
       "</style>\n",
       "<table border=\"1\" class=\"dataframe\">\n",
       "  <thead>\n",
       "    <tr style=\"text-align: right;\">\n",
       "      <th></th>\n",
       "      <th>1</th>\n",
       "      <th>2</th>\n",
       "      <th>0</th>\n",
       "    </tr>\n",
       "  </thead>\n",
       "  <tbody>\n",
       "    <tr>\n",
       "      <th>0</th>\n",
       "      <td>NaN</td>\n",
       "      <td>NaN</td>\n",
       "      <td>0.0</td>\n",
       "    </tr>\n",
       "    <tr>\n",
       "      <th>1</th>\n",
       "      <td>NaN</td>\n",
       "      <td>NaN</td>\n",
       "      <td>0.0</td>\n",
       "    </tr>\n",
       "    <tr>\n",
       "      <th>2</th>\n",
       "      <td>NaN</td>\n",
       "      <td>NaN</td>\n",
       "      <td>0.0</td>\n",
       "    </tr>\n",
       "  </tbody>\n",
       "</table>\n",
       "</div>"
      ],
      "text/plain": [
       "     1    2    0\n",
       "0  NaN  NaN  0.0\n",
       "1  NaN  NaN  0.0\n",
       "2  NaN  NaN  0.0"
      ]
     },
     "execution_count": 37,
     "metadata": {},
     "output_type": "execute_result"
    }
   ],
   "source": [
    "pd.concat([t, pd.DataFrame([0, 0, 0])], axis=0)"
   ]
  },
  {
   "cell_type": "code",
   "execution_count": 46,
   "metadata": {},
   "outputs": [],
   "source": [
    "#a = np.zeros(shape=(1,2), dtype=int)\n",
    "df = pd.DataFrame(np.NaN,columns=['col1','col2'], index=[0])"
   ]
  },
  {
   "cell_type": "code",
   "execution_count": 47,
   "metadata": {},
   "outputs": [
    {
     "data": {
      "text/html": [
       "<div>\n",
       "<style scoped>\n",
       "    .dataframe tbody tr th:only-of-type {\n",
       "        vertical-align: middle;\n",
       "    }\n",
       "\n",
       "    .dataframe tbody tr th {\n",
       "        vertical-align: top;\n",
       "    }\n",
       "\n",
       "    .dataframe thead th {\n",
       "        text-align: right;\n",
       "    }\n",
       "</style>\n",
       "<table border=\"1\" class=\"dataframe\">\n",
       "  <thead>\n",
       "    <tr style=\"text-align: right;\">\n",
       "      <th></th>\n",
       "      <th>col1</th>\n",
       "      <th>col2</th>\n",
       "    </tr>\n",
       "  </thead>\n",
       "  <tbody>\n",
       "    <tr>\n",
       "      <th>0</th>\n",
       "      <td>NaN</td>\n",
       "      <td>NaN</td>\n",
       "    </tr>\n",
       "  </tbody>\n",
       "</table>\n",
       "</div>"
      ],
      "text/plain": [
       "   col1  col2\n",
       "0   NaN   NaN"
      ]
     },
     "execution_count": 47,
     "metadata": {},
     "output_type": "execute_result"
    }
   ],
   "source": [
    "df"
   ]
  },
  {
   "cell_type": "code",
   "execution_count": 23,
   "metadata": {},
   "outputs": [
    {
     "data": {
      "text/html": [
       "<div>\n",
       "<style scoped>\n",
       "    .dataframe tbody tr th:only-of-type {\n",
       "        vertical-align: middle;\n",
       "    }\n",
       "\n",
       "    .dataframe tbody tr th {\n",
       "        vertical-align: top;\n",
       "    }\n",
       "\n",
       "    .dataframe thead th {\n",
       "        text-align: right;\n",
       "    }\n",
       "</style>\n",
       "<table border=\"1\" class=\"dataframe\">\n",
       "  <thead>\n",
       "    <tr style=\"text-align: right;\">\n",
       "      <th></th>\n",
       "      <th>flow_key</th>\n",
       "      <th>src_ip_numeric</th>\n",
       "      <th>src_ip</th>\n",
       "      <th>src_port</th>\n",
       "      <th>dst_ip</th>\n",
       "      <th>dst_port</th>\n",
       "      <th>proto</th>\n",
       "      <th>pktTotalCount</th>\n",
       "      <th>octetTotalCount</th>\n",
       "      <th>min_ps</th>\n",
       "      <th>...</th>\n",
       "      <th>b_flowEnd</th>\n",
       "      <th>b_flowDuration</th>\n",
       "      <th>b_min_piat</th>\n",
       "      <th>b_max_piat</th>\n",
       "      <th>b_avg_piat</th>\n",
       "      <th>b_std_dev_piat</th>\n",
       "      <th>flowEndReason</th>\n",
       "      <th>category</th>\n",
       "      <th>application_protocol</th>\n",
       "      <th>web_service</th>\n",
       "    </tr>\n",
       "  </thead>\n",
       "  <tbody>\n",
       "  </tbody>\n",
       "</table>\n",
       "<p>0 rows × 50 columns</p>\n",
       "</div>"
      ],
      "text/plain": [
       "Empty DataFrame\n",
       "Columns: [flow_key, src_ip_numeric, src_ip, src_port, dst_ip, dst_port, proto, pktTotalCount, octetTotalCount, min_ps, max_ps, avg_ps, std_dev_ps, flowStart, flowEnd, flowDuration, min_piat, max_piat, avg_piat, std_dev_piat, f_pktTotalCount, f_octetTotalCount, f_min_ps, f_max_ps, f_avg_ps, f_std_dev_ps, f_flowStart, f_flowEnd, f_flowDuration, f_min_piat, f_max_piat, f_avg_piat, f_std_dev_piat, b_pktTotalCount, b_octetTotalCount, b_min_ps, b_max_ps, b_avg_ps, b_std_dev_ps, b_flowStart, b_flowEnd, b_flowDuration, b_min_piat, b_max_piat, b_avg_piat, b_std_dev_piat, flowEndReason, category, application_protocol, web_service]\n",
       "Index: []\n",
       "\n",
       "[0 rows x 50 columns]"
      ]
     },
     "execution_count": 23,
     "metadata": {},
     "output_type": "execute_result"
    }
   ],
   "source": [
    "empty_df = k[k['dst_port'] == 100]\n",
    "empty_df"
   ]
  },
  {
   "cell_type": "code",
   "execution_count": 21,
   "metadata": {},
   "outputs": [
    {
     "data": {
      "text/plain": [
       "0"
      ]
     },
     "execution_count": 21,
     "metadata": {},
     "output_type": "execute_result"
    }
   ],
   "source": [
    "len(empty_df)"
   ]
  },
  {
   "cell_type": "code",
   "execution_count": 17,
   "metadata": {},
   "outputs": [
    {
     "data": {
      "text/html": [
       "<div>\n",
       "<style scoped>\n",
       "    .dataframe tbody tr th:only-of-type {\n",
       "        vertical-align: middle;\n",
       "    }\n",
       "\n",
       "    .dataframe tbody tr th {\n",
       "        vertical-align: top;\n",
       "    }\n",
       "\n",
       "    .dataframe thead th {\n",
       "        text-align: right;\n",
       "    }\n",
       "</style>\n",
       "<table border=\"1\" class=\"dataframe\">\n",
       "  <thead>\n",
       "    <tr style=\"text-align: right;\">\n",
       "      <th></th>\n",
       "      <th>flow_key</th>\n",
       "      <th>src_ip_numeric</th>\n",
       "      <th>src_ip</th>\n",
       "      <th>src_port</th>\n",
       "      <th>dst_ip</th>\n",
       "      <th>dst_port</th>\n",
       "      <th>proto</th>\n",
       "      <th>pktTotalCount</th>\n",
       "      <th>octetTotalCount</th>\n",
       "      <th>min_ps</th>\n",
       "      <th>...</th>\n",
       "      <th>b_flowEnd</th>\n",
       "      <th>b_flowDuration</th>\n",
       "      <th>b_min_piat</th>\n",
       "      <th>b_max_piat</th>\n",
       "      <th>b_avg_piat</th>\n",
       "      <th>b_std_dev_piat</th>\n",
       "      <th>flowEndReason</th>\n",
       "      <th>category</th>\n",
       "      <th>application_protocol</th>\n",
       "      <th>web_service</th>\n",
       "    </tr>\n",
       "  </thead>\n",
       "  <tbody>\n",
       "    <tr>\n",
       "      <th>0</th>\n",
       "      <td>NaN</td>\n",
       "      <td>NaN</td>\n",
       "      <td>NaN</td>\n",
       "      <td>NaN</td>\n",
       "      <td>NaN</td>\n",
       "      <td>NaN</td>\n",
       "      <td>NaN</td>\n",
       "      <td>NaN</td>\n",
       "      <td>NaN</td>\n",
       "      <td>NaN</td>\n",
       "      <td>...</td>\n",
       "      <td>NaN</td>\n",
       "      <td>NaN</td>\n",
       "      <td>NaN</td>\n",
       "      <td>NaN</td>\n",
       "      <td>NaN</td>\n",
       "      <td>NaN</td>\n",
       "      <td>NaN</td>\n",
       "      <td>NaN</td>\n",
       "      <td>NaN</td>\n",
       "      <td>NaN</td>\n",
       "    </tr>\n",
       "  </tbody>\n",
       "</table>\n",
       "<p>1 rows × 50 columns</p>\n",
       "</div>"
      ],
      "text/plain": [
       "   flow_key  src_ip_numeric  src_ip  src_port  dst_ip  dst_port  proto  \\\n",
       "0       NaN             NaN     NaN       NaN     NaN       NaN    NaN   \n",
       "\n",
       "   pktTotalCount  octetTotalCount  min_ps  ...  b_flowEnd  b_flowDuration  \\\n",
       "0            NaN              NaN     NaN  ...        NaN             NaN   \n",
       "\n",
       "   b_min_piat b_max_piat  b_avg_piat  b_std_dev_piat  flowEndReason  category  \\\n",
       "0         NaN        NaN         NaN             NaN            NaN       NaN   \n",
       "\n",
       "   application_protocol  web_service  \n",
       "0                   NaN          NaN  \n",
       "\n",
       "[1 rows x 50 columns]"
      ]
     },
     "execution_count": 17,
     "metadata": {},
     "output_type": "execute_result"
    }
   ],
   "source": [
    "null_df = pd.DataFrame(np.NaN, columns=empty_df.columns, index=[0])\n",
    "null_df.loc[0, 'flowStart'] = pd.to_datetime(datetime.now())\n",
    "null_df"
   ]
  },
  {
   "cell_type": "code",
   "execution_count": 16,
   "metadata": {},
   "outputs": [
    {
     "data": {
      "text/plain": [
       "Timestamp('2020-09-23 12:52:03.854103')"
      ]
     },
     "execution_count": 16,
     "metadata": {},
     "output_type": "execute_result"
    }
   ],
   "source": [
    "pd.to_datetime(datetime.now())"
   ]
  },
  {
   "cell_type": "code",
   "execution_count": 19,
   "metadata": {},
   "outputs": [
    {
     "data": {
      "text/html": [
       "<div>\n",
       "<style scoped>\n",
       "    .dataframe tbody tr th:only-of-type {\n",
       "        vertical-align: middle;\n",
       "    }\n",
       "\n",
       "    .dataframe tbody tr th {\n",
       "        vertical-align: top;\n",
       "    }\n",
       "\n",
       "    .dataframe thead th {\n",
       "        text-align: right;\n",
       "    }\n",
       "</style>\n",
       "<table border=\"1\" class=\"dataframe\">\n",
       "  <thead>\n",
       "    <tr style=\"text-align: right;\">\n",
       "      <th></th>\n",
       "      <th>flow_key</th>\n",
       "      <th>src_ip_numeric</th>\n",
       "      <th>src_ip</th>\n",
       "      <th>src_port</th>\n",
       "      <th>dst_ip</th>\n",
       "      <th>dst_port</th>\n",
       "      <th>proto</th>\n",
       "      <th>pktTotalCount</th>\n",
       "      <th>octetTotalCount</th>\n",
       "      <th>min_ps</th>\n",
       "      <th>...</th>\n",
       "      <th>b_flowEnd</th>\n",
       "      <th>b_flowDuration</th>\n",
       "      <th>b_min_piat</th>\n",
       "      <th>b_max_piat</th>\n",
       "      <th>b_avg_piat</th>\n",
       "      <th>b_std_dev_piat</th>\n",
       "      <th>flowEndReason</th>\n",
       "      <th>category</th>\n",
       "      <th>application_protocol</th>\n",
       "      <th>web_service</th>\n",
       "    </tr>\n",
       "    <tr>\n",
       "      <th>flowStart</th>\n",
       "      <th></th>\n",
       "      <th></th>\n",
       "      <th></th>\n",
       "      <th></th>\n",
       "      <th></th>\n",
       "      <th></th>\n",
       "      <th></th>\n",
       "      <th></th>\n",
       "      <th></th>\n",
       "      <th></th>\n",
       "      <th></th>\n",
       "      <th></th>\n",
       "      <th></th>\n",
       "      <th></th>\n",
       "      <th></th>\n",
       "      <th></th>\n",
       "      <th></th>\n",
       "      <th></th>\n",
       "      <th></th>\n",
       "      <th></th>\n",
       "      <th></th>\n",
       "    </tr>\n",
       "  </thead>\n",
       "  <tbody>\n",
       "    <tr>\n",
       "      <th>2020-09-23 12:50:00</th>\n",
       "      <td>0.0</td>\n",
       "      <td>0.0</td>\n",
       "      <td>0.0</td>\n",
       "      <td>0.0</td>\n",
       "      <td>0.0</td>\n",
       "      <td>0.0</td>\n",
       "      <td>0.0</td>\n",
       "      <td>0.0</td>\n",
       "      <td>0.0</td>\n",
       "      <td>0.0</td>\n",
       "      <td>...</td>\n",
       "      <td>0.0</td>\n",
       "      <td>0.0</td>\n",
       "      <td>0.0</td>\n",
       "      <td>0.0</td>\n",
       "      <td>0.0</td>\n",
       "      <td>0.0</td>\n",
       "      <td>0.0</td>\n",
       "      <td>0.0</td>\n",
       "      <td>0.0</td>\n",
       "      <td>0.0</td>\n",
       "    </tr>\n",
       "  </tbody>\n",
       "</table>\n",
       "<p>1 rows × 49 columns</p>\n",
       "</div>"
      ],
      "text/plain": [
       "                     flow_key  src_ip_numeric  src_ip  src_port  dst_ip  \\\n",
       "flowStart                                                                 \n",
       "2020-09-23 12:50:00       0.0             0.0     0.0       0.0     0.0   \n",
       "\n",
       "                     dst_port  proto  pktTotalCount  octetTotalCount  min_ps  \\\n",
       "flowStart                                                                      \n",
       "2020-09-23 12:50:00       0.0    0.0            0.0              0.0     0.0   \n",
       "\n",
       "                     ...  b_flowEnd  b_flowDuration  b_min_piat  b_max_piat  \\\n",
       "flowStart            ...                                                      \n",
       "2020-09-23 12:50:00  ...        0.0             0.0         0.0         0.0   \n",
       "\n",
       "                     b_avg_piat  b_std_dev_piat  flowEndReason  category  \\\n",
       "flowStart                                                                  \n",
       "2020-09-23 12:50:00         0.0             0.0            0.0       0.0   \n",
       "\n",
       "                     application_protocol  web_service  \n",
       "flowStart                                               \n",
       "2020-09-23 12:50:00                   0.0          0.0  \n",
       "\n",
       "[1 rows x 49 columns]"
      ]
     },
     "execution_count": 19,
     "metadata": {},
     "output_type": "execute_result"
    }
   ],
   "source": [
    "null_df.resample('300S', on='flowStart').sum()"
   ]
  },
  {
   "cell_type": "markdown",
   "metadata": {},
   "source": [
    "# Tasks sheduler"
   ]
  },
  {
   "cell_type": "code",
   "execution_count": 4,
   "metadata": {},
   "outputs": [],
   "source": [
    "import schedule\n",
    "import time\n",
    "import pandas as pd\n",
    "from datetime import timedelta"
   ]
  },
  {
   "cell_type": "code",
   "execution_count": 5,
   "metadata": {},
   "outputs": [],
   "source": [
    "def job():\n",
    "    print(\"I'm working... \" + str(pd.to_datetime('now') + timedelta(hours=3)))"
   ]
  },
  {
   "cell_type": "code",
   "execution_count": 6,
   "metadata": {},
   "outputs": [
    {
     "name": "stdout",
     "output_type": "stream",
     "text": [
      "I'm working... 2020-09-23 15:24:13.387083\n"
     ]
    }
   ],
   "source": [
    "job()"
   ]
  },
  {
   "cell_type": "code",
   "execution_count": 7,
   "metadata": {},
   "outputs": [
    {
     "name": "stdout",
     "output_type": "stream",
     "text": [
      "I'm working... 2020-09-23 15:25:30.648375\n",
      "I'm working... 2020-09-23 15:27:30.790435\n",
      "I'm working... 2020-09-23 15:29:30.927499\n",
      "I'm working... 2020-09-23 15:31:30.067335\n",
      "I'm working... 2020-09-23 15:33:30.206688\n",
      "I'm working... 2020-09-23 15:35:30.341549\n",
      "I'm working... 2020-09-23 15:37:30.484029\n",
      "I'm working... 2020-09-23 15:39:30.621381\n",
      "I'm working... 2020-09-23 15:41:30.759183\n",
      "I'm working... 2020-09-23 15:43:30.889229\n",
      "I'm working... 2020-09-23 15:45:30.026952\n"
     ]
    },
    {
     "ename": "KeyboardInterrupt",
     "evalue": "",
     "output_type": "error",
     "traceback": [
      "\u001b[0;31m---------------------------------------------------------------------------\u001b[0m",
      "\u001b[0;31mKeyboardInterrupt\u001b[0m                         Traceback (most recent call last)",
      "\u001b[0;32m<ipython-input-7-c38d8b11f282>\u001b[0m in \u001b[0;36m<module>\u001b[0;34m\u001b[0m\n\u001b[1;32m      4\u001b[0m \u001b[0;32mwhile\u001b[0m \u001b[0;32mTrue\u001b[0m\u001b[0;34m:\u001b[0m\u001b[0;34m\u001b[0m\u001b[0;34m\u001b[0m\u001b[0m\n\u001b[1;32m      5\u001b[0m     \u001b[0mschedule\u001b[0m\u001b[0;34m.\u001b[0m\u001b[0mrun_pending\u001b[0m\u001b[0;34m(\u001b[0m\u001b[0;34m)\u001b[0m\u001b[0;34m\u001b[0m\u001b[0;34m\u001b[0m\u001b[0m\n\u001b[0;32m----> 6\u001b[0;31m     \u001b[0mtime\u001b[0m\u001b[0;34m.\u001b[0m\u001b[0msleep\u001b[0m\u001b[0;34m(\u001b[0m\u001b[0;36m1\u001b[0m\u001b[0;34m)\u001b[0m\u001b[0;34m\u001b[0m\u001b[0;34m\u001b[0m\u001b[0m\n\u001b[0m",
      "\u001b[0;31mKeyboardInterrupt\u001b[0m: "
     ]
    }
   ],
   "source": [
    "schedule.every(2).minutes.at(\":30\").do(job)\n",
    "\n",
    "\n",
    "while True:\n",
    "    schedule.run_pending()\n",
    "    time.sleep(1)"
   ]
  },
  {
   "cell_type": "markdown",
   "metadata": {},
   "source": [
    "# Dict sending"
   ]
  },
  {
   "cell_type": "code",
   "execution_count": 2,
   "metadata": {},
   "outputs": [],
   "source": [
    "d = {'temp':1, 'co':2}"
   ]
  },
  {
   "cell_type": "code",
   "execution_count": 3,
   "metadata": {},
   "outputs": [
    {
     "data": {
      "text/plain": [
       "'{\"temp\": 1, \"co\": 2}'"
      ]
     },
     "execution_count": 3,
     "metadata": {},
     "output_type": "execute_result"
    }
   ],
   "source": [
    "j = json.dumps(d)\n",
    "j"
   ]
  },
  {
   "cell_type": "code",
   "execution_count": 4,
   "metadata": {},
   "outputs": [
    {
     "data": {
      "text/plain": [
       "{'temp': 1, 'co': 2}"
      ]
     },
     "execution_count": 4,
     "metadata": {},
     "output_type": "execute_result"
    }
   ],
   "source": [
    "json.loads(j)"
   ]
  },
  {
   "cell_type": "code",
   "execution_count": 7,
   "metadata": {},
   "outputs": [
    {
     "data": {
      "text/html": [
       "<div>\n",
       "<style scoped>\n",
       "    .dataframe tbody tr th:only-of-type {\n",
       "        vertical-align: middle;\n",
       "    }\n",
       "\n",
       "    .dataframe tbody tr th {\n",
       "        vertical-align: top;\n",
       "    }\n",
       "\n",
       "    .dataframe thead th {\n",
       "        text-align: right;\n",
       "    }\n",
       "</style>\n",
       "<table border=\"1\" class=\"dataframe\">\n",
       "  <thead>\n",
       "    <tr style=\"text-align: right;\">\n",
       "      <th></th>\n",
       "      <th>temp</th>\n",
       "      <th>co</th>\n",
       "    </tr>\n",
       "  </thead>\n",
       "  <tbody>\n",
       "    <tr>\n",
       "      <th>0</th>\n",
       "      <td>1</td>\n",
       "      <td>2</td>\n",
       "    </tr>\n",
       "  </tbody>\n",
       "</table>\n",
       "</div>"
      ],
      "text/plain": [
       "   temp  co\n",
       "0     1   2"
      ]
     },
     "execution_count": 7,
     "metadata": {},
     "output_type": "execute_result"
    }
   ],
   "source": [
    "a = pd.DataFrame([d])\n",
    "a"
   ]
  },
  {
   "cell_type": "code",
   "execution_count": 8,
   "metadata": {},
   "outputs": [
    {
     "data": {
      "text/plain": [
       "{'temp': 1, 'co': 2}"
      ]
     },
     "execution_count": 8,
     "metadata": {},
     "output_type": "execute_result"
    }
   ],
   "source": [
    "dict(zip(a.columns, a.iloc[0]))"
   ]
  },
  {
   "cell_type": "markdown",
   "metadata": {},
   "source": [
    "## Make clust data dashboard"
   ]
  },
  {
   "cell_type": "code",
   "execution_count": 2,
   "metadata": {},
   "outputs": [],
   "source": [
    "lag = np.array([1,2,3,4,5])\n",
    "cur = np.array([11,12,13,14,15])"
   ]
  },
  {
   "cell_type": "code",
   "execution_count": 5,
   "metadata": {},
   "outputs": [
    {
     "data": {
      "text/plain": [
       "(array([1, 2, 3, 4, 5]), array([11, 12, 13, 14, 15]))"
      ]
     },
     "execution_count": 5,
     "metadata": {},
     "output_type": "execute_result"
    }
   ],
   "source": [
    "lag, cur"
   ]
  },
  {
   "cell_type": "code",
   "execution_count": 11,
   "metadata": {},
   "outputs": [
    {
     "data": {
      "text/plain": [
       "array([[ 1, 11],\n",
       "       [ 2, 12],\n",
       "       [ 3, 13],\n",
       "       [ 4, 14],\n",
       "       [ 5, 15]])"
      ]
     },
     "execution_count": 11,
     "metadata": {},
     "output_type": "execute_result"
    }
   ],
   "source": [
    "np.vstack([lag,  cur]).transpose(1,0)"
   ]
  },
  {
   "cell_type": "code",
   "execution_count": null,
   "metadata": {},
   "outputs": [],
   "source": []
  }
 ],
 "metadata": {
  "kernelspec": {
   "display_name": "Python 3",
   "language": "python",
   "name": "python3"
  },
  "language_info": {
   "codemirror_mode": {
    "name": "ipython",
    "version": 3
   },
   "file_extension": ".py",
   "mimetype": "text/x-python",
   "name": "python",
   "nbconvert_exporter": "python",
   "pygments_lexer": "ipython3",
   "version": "3.6.9"
  }
 },
 "nbformat": 4,
 "nbformat_minor": 4
}
